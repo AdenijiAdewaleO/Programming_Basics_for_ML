{
  "nbformat": 4,
  "nbformat_minor": 0,
  "metadata": {
    "colab": {
      "provenance": [],
      "authorship_tag": "ABX9TyPX0FLEEHEF8TyDK//Y+aR8",
      "include_colab_link": true
    },
    "kernelspec": {
      "name": "python3",
      "display_name": "Python 3"
    },
    "language_info": {
      "name": "python"
    }
  },
  "cells": [
    {
      "cell_type": "markdown",
      "metadata": {
        "id": "view-in-github",
        "colab_type": "text"
      },
      "source": [
        "<a href=\"https://colab.research.google.com/github/AdenijiAdewaleO/Programming_Basics_for_ML/blob/main/DATA3550Lab3.ipynb\" target=\"_parent\"><img src=\"https://colab.research.google.com/assets/colab-badge.svg\" alt=\"Open In Colab\"/></a>"
      ]
    },
    {
      "cell_type": "markdown",
      "source": [
        "ADEWALE ADENIJI LAB 3\n",
        "\n",
        "**Question 1.**\n",
        "\n",
        "Write a program with loops that compute the sum of all odd numbers between *a* and *b*,\n",
        "where a and b are inputs."
      ],
      "metadata": {
        "id": "QKEXFmA6kYlK"
      }
    },
    {
      "cell_type": "code",
      "source": [
        "\n",
        "def oddSum (num1 : int, num2: int) -> int:\n",
        "\n",
        "  if not type(num1) == int or not type(num2) == int:\n",
        "    print('One of your numbers is not an integer, try again')\n",
        "\n",
        "  else:\n",
        "    num_list  = list(range(num1,num2+1))\n",
        "    sum_of_odds = 0\n",
        "\n",
        "    for i in num_list:\n",
        "       if isOdd(i):\n",
        "        sum_of_odds += i\n",
        "\n",
        "    return sum_of_odds\n",
        "\n",
        "\n",
        "def isOdd (num: int) -> bool:\n",
        "  '''\n",
        "      Function isOdd takes in an integer and determines whether it is an odd number,\n",
        "      returning True or False\n",
        "  '''\n",
        "  if num%2 == 0:\n",
        "    return False\n",
        "  elif num%2 == 1:\n",
        "    return True"
      ],
      "metadata": {
        "id": "ML-IcDenkftI"
      },
      "execution_count": null,
      "outputs": []
    },
    {
      "cell_type": "code",
      "source": [
        "print(oddSum(2,100))\n",
        "print(oddSum(3,100))\n",
        "print(oddSum(-10,999))\n",
        "print(oddSum(-11,999))\n",
        "print(oddSum(2.5,100))\n"
      ],
      "metadata": {
        "colab": {
          "base_uri": "https://localhost:8080/"
        },
        "id": "zXt2p6Ydp_6l",
        "outputId": "cef706fd-3ca6-4744-caf2-5b0929db5580"
      },
      "execution_count": null,
      "outputs": [
        {
          "output_type": "stream",
          "name": "stdout",
          "text": [
            "2499\n",
            "2499\n",
            "249975\n",
            "249964\n",
            "One of your numbers is not an integer, try again\n",
            "None\n"
          ]
        }
      ]
    },
    {
      "cell_type": "markdown",
      "source": [
        "\n",
        "\n",
        "**Question 2.**\n",
        "\n",
        "Write programs that read a line of input as a string and print the string, with all vowels replaced\n",
        "by an underscore"
      ],
      "metadata": {
        "id": "svYnYh1FwFdR"
      }
    },
    {
      "cell_type": "code",
      "source": [
        "def vowelChange (input_string: str) -> str:\n",
        "  '''\n",
        "  This function changes the vowels in a given string to an underscore\n",
        "  '''\n",
        "\n",
        "  input_string = str(input_string)\n",
        "  new_string = ''\n",
        "\n",
        "\n",
        "  for i in input_string:\n",
        "    if isVowel(i):\n",
        "      new_string += '_'\n",
        "    else:\n",
        "      new_string += i\n",
        "  return new_string\n",
        "\n",
        "def isVowel (char) -> bool:\n",
        "    '''\n",
        "      This function determines whether a character is a vowel or not and returns\n",
        "      True or False\n",
        "    '''\n",
        "\n",
        "    up_vowel = ('A', 'E', 'I','O', 'U')\n",
        "    low_vowel = ('a','e','i','o','u')\n",
        "\n",
        "    if char in up_vowel or char in low_vowel:\n",
        "      return True\n",
        "    else:\n",
        "      return False\n",
        "\n"
      ],
      "metadata": {
        "id": "2iJ9E1u5wjc9"
      },
      "execution_count": null,
      "outputs": []
    },
    {
      "cell_type": "code",
      "source": [
        "test_string1 = 'Quick frozen fox jumps over the lazy dog.'\n",
        "test_string2 = 'He stood on the road and cried.'\n",
        "test_string3 = 'Shy gypsy, slyly spryly tryst by my crypt.'\n",
        "test_string4 = 'This is my test case with some alpha-numeric strings 1a2s3r4u5a'"
      ],
      "metadata": {
        "id": "Lb-CHGmZz1_M"
      },
      "execution_count": null,
      "outputs": []
    },
    {
      "cell_type": "code",
      "source": [
        "print(vowelChange(test_string1))\n",
        "print(vowelChange(test_string2))\n",
        "print(vowelChange(test_string3))\n",
        "print(vowelChange(test_string4))"
      ],
      "metadata": {
        "colab": {
          "base_uri": "https://localhost:8080/"
        },
        "id": "0aup-q5Tz31c",
        "outputId": "e0a1d705-7967-4b9d-9898-d432f4dedd50"
      },
      "execution_count": null,
      "outputs": [
        {
          "output_type": "stream",
          "name": "stdout",
          "text": [
            "Q__ck fr_z_n f_x j_mps _v_r th_ l_zy d_g.\n",
            "H_ st__d _n th_ r__d _nd cr__d.\n",
            "Shy gypsy, slyly spryly tryst by my crypt.\n",
            "Th_s _s my t_st c_s_ w_th s_m_ _lph_-n_m_r_c str_ngs 1_2s3r4_5_\n"
          ]
        }
      ]
    },
    {
      "cell_type": "markdown",
      "source": [
        "**Question 3.**  \n",
        "\n",
        "Write a program that computes the number of years required to triple the initial balance. And the\n",
        "user inputs initial balance (positive), and the rate (positive)."
      ],
      "metadata": {
        "id": "1Qis7d_j7gFW"
      }
    },
    {
      "cell_type": "code",
      "source": [
        "def invReturns (principal: float, rate: float) -> float:\n",
        "  '''\n",
        "  Function calculates the return on an investment after one year\n",
        "  '''\n",
        "\n",
        "  if principal <= 0:\n",
        "    print (\"Sorry, I didn't understand that. The balance should be positive\")\n",
        "  elif rate <= 0:\n",
        "    print(\"Sorry, I didn't understand that. The rate should be positive \")\n",
        "\n",
        "  else:\n",
        "   balance = principal + (principal * rate/100)\n",
        "\n",
        "  return balance"
      ],
      "metadata": {
        "id": "Bg7iX622xwrX"
      },
      "execution_count": null,
      "outputs": []
    },
    {
      "cell_type": "code",
      "source": [
        "def multiInvest (principal: float = 0, rate: float = 0, multiple: int =3) -> str:\n",
        "\n",
        "  if principal <= 0:\n",
        "    text = \"Sorry, I didn't understand that. The balance should be positive\"\n",
        "  elif rate <= 0:\n",
        "    text = \"Sorry, I didn't understand that. The rate should be positive \"\n",
        "  else:\n",
        "    balance = principal\n",
        "    n = 0\n",
        "\n",
        "    while balance < principal * multiple:\n",
        "      balance = balance + (balance * rate/100 )\n",
        "      n += 1\n",
        "    text = (f'With an initial balance of {principal:.2f}, the investment can be tripled after {n} years at a rate of {rate:.2f}%')\n",
        "  return text"
      ],
      "metadata": {
        "id": "Cb10053F_ZfH"
      },
      "execution_count": null,
      "outputs": []
    },
    {
      "cell_type": "code",
      "source": [
        "print(multiInvest(0))\n",
        "print(multiInvest(3500, -5))\n",
        "print(multiInvest(3500, 3.5))\n",
        "print(multiInvest(99999, 10))\n",
        "print(multiInvest(100000000, 10))"
      ],
      "metadata": {
        "colab": {
          "base_uri": "https://localhost:8080/"
        },
        "id": "R6Jv89FNAKqF",
        "outputId": "f6bf4b5c-97e6-49be-9a76-887077eab76d"
      },
      "execution_count": null,
      "outputs": [
        {
          "output_type": "stream",
          "name": "stdout",
          "text": [
            "Sorry, I didn't understand that. The balance should be positive\n",
            "Sorry, I didn't understand that. The rate should be positive \n",
            "With an initial balance of 3500.00, the investment can be tripled after 32 years at a rate of 3.50%\n",
            "With an initial balance of 99999.00, the investment can be tripled after 12 years at a rate of 10.00%\n",
            "With an initial balance of 100000000.00, the investment can be tripled after 12 years at a rate of 10.00%\n"
          ]
        }
      ]
    },
    {
      "cell_type": "markdown",
      "source": [
        "**Question 4**.\n",
        "\n",
        "Factoring of integers. Write a program that asks the user for an integer and then prints out all its\n",
        "factors."
      ],
      "metadata": {
        "id": "u_ax2O75OyvI"
      }
    },
    {
      "cell_type": "code",
      "source": [
        "def factorsOf(num: int) -> str:\n",
        "\n",
        "  '''\n",
        "    This function takes in an integer and returns a list of all the unique factors of the number\n",
        "  '''\n",
        "\n",
        "  # Some error checking to make sure that the input is an integer\n",
        "  if not type(num) == int:\n",
        "    text = 'Error! Enter an integer'\n",
        "\n",
        "  #Some more error checking to make sure the given number is neither a 0 or a 1\n",
        "  elif num in [0,1]:\n",
        "      text ='Error! Enter an integer other than 1.'\n",
        "\n",
        "  # This stage is where we finds all the possible factors of the given number that are prime numbers\n",
        "  else:\n",
        "    num = abs(num)\n",
        "    factors = []\n",
        "    n = 2\n",
        "\n",
        "    #The loop stops at half way because if no factor is found at this stage, then the number has no factors\n",
        "    while n <= num//2:\n",
        "        if num % n == 0 and isPrime(n):    #isPrime is checked to ensure we are not adding a factor that is a multiple of another factor\n",
        "          factors.append(n)\n",
        "        n += 1\n",
        "\n",
        "    if factors == []:     # If list is empty, then number has no factor\n",
        "      text = 'This number has no factors other than 1 and itself'\n",
        "\n",
        "    else:\n",
        "      #text = factors\n",
        "      actual_factor = []\n",
        "      temp_num = num\n",
        "      for i in factors:\n",
        "\n",
        "        while temp_num%i == 0:\n",
        "          temp_num /= i\n",
        "          actual_factor.append(i)\n",
        "      text = actual_factor\n",
        "\n",
        "  return text\n",
        "\n",
        "\n",
        "def isPrime (num: int) -> bool:\n",
        "\n",
        "  ''' This function determines if a number is a prime number or not.\n",
        "      A prime number has no factors other than 1 and itself\n",
        "  '''\n",
        "\n",
        "  num = abs(num)\n",
        "  factors = []\n",
        "  n = 2\n",
        "  while n <= num//2:\n",
        "    if num % n == 0:\n",
        "      factors.append(n)\n",
        "    n += 1\n",
        "  if factors == []:\n",
        "    return True\n",
        "  else:\n",
        "    return False"
      ],
      "metadata": {
        "id": "oyNQoJG7OI-Q"
      },
      "execution_count": null,
      "outputs": []
    },
    {
      "cell_type": "code",
      "source": [
        "print (factorsOf(0))\n",
        "print (factorsOf(1))\n",
        "print (factorsOf(3500))\n",
        "print (factorsOf(-98675))\n",
        "print (factorsOf(461))\n",
        "print (factorsOf('23'))"
      ],
      "metadata": {
        "colab": {
          "base_uri": "https://localhost:8080/"
        },
        "id": "rT0ggNbQQk6M",
        "outputId": "3f856327-2776-4bb8-e20c-1df91b2ef114"
      },
      "execution_count": null,
      "outputs": [
        {
          "output_type": "stream",
          "name": "stdout",
          "text": [
            "Error! Enter an integer other than 1.\n",
            "Error! Enter an integer other than 1.\n",
            "[2, 2, 5, 5, 5, 7]\n",
            "[5, 5, 3947]\n",
            "This number has no factors other than 1 and itself\n",
            "Error! Enter an integer\n"
          ]
        }
      ]
    },
    {
      "cell_type": "code",
      "source": [
        "a= [2,5]\n",
        "print(f'{a}')"
      ],
      "metadata": {
        "colab": {
          "base_uri": "https://localhost:8080/"
        },
        "id": "PYC9x_wYbf7p",
        "outputId": "54ebcb84-14bb-4638-e49b-bd9967d93d1a"
      },
      "execution_count": null,
      "outputs": [
        {
          "output_type": "stream",
          "name": "stdout",
          "text": [
            "[2, 5]\n"
          ]
        }
      ]
    },
    {
      "cell_type": "code",
      "source": [],
      "metadata": {
        "id": "siAk4J34iZgp"
      },
      "execution_count": null,
      "outputs": []
    },
    {
      "cell_type": "markdown",
      "source": [
        "**Question 5.**\n",
        "\n",
        "Write a program that reads a sequence of grades obtained from the user. It computes the number\n",
        "of passing, and failing grades."
      ],
      "metadata": {
        "id": "fcr5NI2SiqMq"
      }
    },
    {
      "cell_type": "code",
      "source": [
        "def numPassFail() -> str:\n",
        "\n",
        "\n",
        "  numPassing = 0\n",
        "  numFailing = 0\n",
        "  grade = float(input('Enter a grade or -1 to finish: '))\n",
        "\n",
        "  while grade != -1:\n",
        "    if grade < 0 or grade > 100:\n",
        "      text = 'Please enter a grade between 0 and 100'\n",
        "      break\n",
        "    elif grade >= 50:\n",
        "      numPassing += 1\n",
        "    else:\n",
        "      numFailing += 1\n",
        "    grade = float(input('Enter a grade or -1 to finish: '))\n",
        "    text = f'Number of passing grades: {numPassing}\\nNumber of failing grades: {numFailing}'\n",
        "\n",
        "  return text"
      ],
      "metadata": {
        "id": "2DCJluoyiaFx"
      },
      "execution_count": null,
      "outputs": []
    },
    {
      "cell_type": "code",
      "source": [
        "print(numPassFail())"
      ],
      "metadata": {
        "colab": {
          "base_uri": "https://localhost:8080/"
        },
        "id": "_LWM0oPkkEPv",
        "outputId": "1332ebf7-1c92-46d8-a8a1-01afa5068726"
      },
      "execution_count": null,
      "outputs": [
        {
          "output_type": "stream",
          "name": "stdout",
          "text": [
            "Enter a grade or -1 to finish: 100\n",
            "Enter a grade or -1 to finish: 50\n",
            "Enter a grade or -1 to finish: 80\n",
            "Enter a grade or -1 to finish: 10\n",
            "Enter a grade or -1 to finish: 0\n",
            "Enter a grade or -1 to finish: -1\n",
            "Number of passing grades: 3\n",
            "Number of failing grades: 2\n"
          ]
        }
      ]
    },
    {
      "cell_type": "code",
      "source": [],
      "metadata": {
        "id": "wkYIhjewjWlA"
      },
      "execution_count": null,
      "outputs": []
    }
  ]
}