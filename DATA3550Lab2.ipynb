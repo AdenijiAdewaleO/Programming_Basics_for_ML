{
  "nbformat": 4,
  "nbformat_minor": 0,
  "metadata": {
    "colab": {
      "provenance": [],
      "authorship_tag": "ABX9TyNQVvOGmyk/S4Mnx7jP7blz",
      "include_colab_link": true
    },
    "kernelspec": {
      "name": "python3",
      "display_name": "Python 3"
    },
    "language_info": {
      "name": "python"
    }
  },
  "cells": [
    {
      "cell_type": "markdown",
      "metadata": {
        "id": "view-in-github",
        "colab_type": "text"
      },
      "source": [
        "<a href=\"https://colab.research.google.com/github/AdenijiAdewaleO/Programming_Basics_for_ML/blob/main/DATA3550Lab2.ipynb\" target=\"_parent\"><img src=\"https://colab.research.google.com/assets/colab-badge.svg\" alt=\"Open In Colab\"/></a>"
      ]
    },
    {
      "cell_type": "markdown",
      "source": [
        "LAB 2"
      ],
      "metadata": {
        "id": "ebL-sOskT8Gy"
      }
    },
    {
      "cell_type": "markdown",
      "source": [
        "1. Write an expression that will cause the following code to print \"30 or less\" if the value of\n",
        "user input is 30 or less.\n"
      ],
      "metadata": {
        "id": "6bG1SIeNUMJM"
      }
    },
    {
      "cell_type": "code",
      "source": [
        "value = float(input('Enter a value: '))\n",
        "if value <= 30:\n",
        "  print('30 or less')\n",
        "else:\n",
        "  print('Over 30')\n"
      ],
      "metadata": {
        "colab": {
          "base_uri": "https://localhost:8080/"
        },
        "id": "wB43M-KXUQtO",
        "outputId": "a76b7fc3-55a5-4fb7-d118-11553cfebb21"
      },
      "execution_count": null,
      "outputs": [
        {
          "output_type": "stream",
          "name": "stdout",
          "text": [
            "Enter a value: 102.3\n",
            "Over 30\n"
          ]
        }
      ]
    },
    {
      "cell_type": "markdown",
      "source": [
        "2. Write a program that reads a floating-point number and prints “zero” if the number is zero.\n",
        "Otherwise, print “positive” or “negative”. Add “small” if the absolute value of the number is less\n",
        "than 1,000,000 or “large” if it exceeds 1,000,000."
      ],
      "metadata": {
        "id": "-Upgg7smVtgC"
      }
    },
    {
      "cell_type": "code",
      "source": [
        "value = float(input('Enter a value: '))\n",
        "if value == 0:\n",
        "  print('zero')\n",
        "elif value > 0:\n",
        "  print ('positive')\n",
        "else:\n",
        "  print('negative')\n",
        "\n",
        "if abs(value) < 1000000:\n",
        "  print ('small')\n",
        "else:\n",
        "  print('large')"
      ],
      "metadata": {
        "colab": {
          "base_uri": "https://localhost:8080/"
        },
        "id": "NDh0PLTEVwd-",
        "outputId": "f2e2afad-0e54-43ee-b2d6-84af12202bb4"
      },
      "execution_count": null,
      "outputs": [
        {
          "output_type": "stream",
          "name": "stdout",
          "text": [
            "Enter a value: -3020000\n",
            "negative\n",
            "large\n"
          ]
        }
      ]
    },
    {
      "cell_type": "markdown",
      "source": [
        "3. Write an if-else statement with multiple branches.\n",
        "If year is 2101 or later, print \"Distant future\" (without quotes). Otherwise, if year is 2001 or\n",
        "greater, print \"21st century\". Otherwise, if year is 1901 or greater, print \"20th century\". Else\n",
        "(1900 or earlier), print \"Long ago\""
      ],
      "metadata": {
        "id": "1dsl51jLXgTs"
      }
    },
    {
      "cell_type": "code",
      "source": [
        "year = int(input('Enter a year: '))\n",
        "if year >= 2101:\n",
        "  print('Distant Future')\n",
        "elif year >= 2001:\n",
        "  print('21st century')\n",
        "elif year >= 1901:\n",
        "  print('20th century')\n",
        "else:\n",
        "  print('Long ago')"
      ],
      "metadata": {
        "colab": {
          "base_uri": "https://localhost:8080/"
        },
        "id": "Ib3P_5s9Xhax",
        "outputId": "fed3b6d0-39cd-48cb-f575-935b8b05d77d"
      },
      "execution_count": null,
      "outputs": [
        {
          "output_type": "stream",
          "name": "stdout",
          "text": [
            "Enter a year: 2035\n",
            "21st century\n"
          ]
        }
      ]
    },
    {
      "cell_type": "markdown",
      "source": [
        "4. Write a program whose inputs are three integers, and whose output is the smallest of\n",
        "the three values."
      ],
      "metadata": {
        "id": "cfsqP2XJa0NW"
      }
    },
    {
      "cell_type": "code",
      "source": [
        "numOne = int(input('Enter first integer '))\n",
        "numTwo = int(input('Enter second integer '))\n",
        "numThree = int(input('Enter third integer '))\n",
        "smallestNum = min(numOne,numTwo,numThree)\n",
        "print('The smallest number is ', smallestNum)"
      ],
      "metadata": {
        "id": "yQPjz7Ofa3sh",
        "outputId": "8055eb21-0c0e-4aed-df5b-1d2badf0cadf",
        "colab": {
          "base_uri": "https://localhost:8080/"
        }
      },
      "execution_count": null,
      "outputs": [
        {
          "output_type": "stream",
          "name": "stdout",
          "text": [
            "Enter first integer -3050\n",
            "Enter second integer -10000\n",
            "Enter third integer -23\n",
            "The smallest number is  -10000\n"
          ]
        }
      ]
    },
    {
      "cell_type": "markdown",
      "source": [
        "5. Write a program that reads a temperature value and the letter C for Celsius or F for Fahrenheit. Print\n",
        "whether water is liquid, solid, or gaseous at the given temperature at sea level\n"
      ],
      "metadata": {
        "id": "PgZGxpTfcSZT"
      }
    },
    {
      "cell_type": "code",
      "source": [
        "tempValue = float(input('Enter temperature value: '))\n",
        "metric = input('What is the unit of measurement: Enter  letter C for Celsius or F for Fahrenheit: ')\n",
        "if metric == 'C' or metric == 'c':\n",
        "  if tempValue < 0:\n",
        "    print('At that temperature, water is solid')\n",
        "  elif tempValue < 100:\n",
        "    print('At that temperature, water is liquid')\n",
        "  else:\n",
        "    print('At that temperature, water is gaseous')\n",
        "\n",
        "elif metric == 'F' or metric == 'f':\n",
        "  if tempValue < 32:\n",
        "    print('At that temperature, water is solid')\n",
        "  elif tempValue < 212:\n",
        "    print('At that temperature, water is liquid')\n",
        "  else:\n",
        "    print('At that temperature, water is gaseous')\n",
        "\n",
        "else:\n",
        "  print ('Wrong letter chosen for unit of measurement')"
      ],
      "metadata": {
        "id": "BIEtpQ3OcUZ8",
        "outputId": "091438c1-f6fb-4003-ec48-eebeec4b0d8e",
        "colab": {
          "base_uri": "https://localhost:8080/"
        }
      },
      "execution_count": null,
      "outputs": [
        {
          "output_type": "stream",
          "name": "stdout",
          "text": [
            "Enter temperature value: 100\n",
            "What is the unit of measurement: Enter  letter C for Celsius or F for Fahrenheit: c\n",
            "At that temperature, water is gaseous\n"
          ]
        }
      ]
    }
  ]
}