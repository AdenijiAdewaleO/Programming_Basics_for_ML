{
  "cells": [
    {
      "cell_type": "markdown",
      "metadata": {
        "colab_type": "text",
        "id": "view-in-github"
      },
      "source": [
        "<a href=\"https://colab.research.google.com/github/AdenijiAdewaleO/Programming_Basics_for_ML/blob/main/DATA3550Lab2.ipynb\" target=\"_parent\"><img src=\"https://colab.research.google.com/assets/colab-badge.svg\" alt=\"Open In Colab\"/></a>"
      ]
    },
    {
      "cell_type": "markdown",
      "metadata": {
        "id": "ebL-sOskT8Gy"
      },
      "source": [
        "LAB 2"
      ]
    },
    {
      "cell_type": "markdown",
      "metadata": {
        "id": "6bG1SIeNUMJM"
      },
      "source": [
        "1. Write an expression that will cause the following code to print \"30 or less\" if the value of\n",
        "user input is 30 or less.\n"
      ]
    },
    {
      "cell_type": "code",
      "execution_count": null,
      "metadata": {
        "colab": {
          "base_uri": "https://localhost:8080/"
        },
        "id": "wB43M-KXUQtO",
        "outputId": "a76b7fc3-55a5-4fb7-d118-11553cfebb21"
      },
      "outputs": [
        {
          "name": "stdout",
          "output_type": "stream",
          "text": [
            "Enter a value: 102.3\n",
            "Over 30\n"
          ]
        }
      ],
      "source": [
        "value = float(input('Enter a value: '))\n",
        "if value <= 30:\n",
        "  print('30 or less')\n",
        "else:\n",
        "  print('Over 30')\n"
      ]
    },
    {
      "cell_type": "markdown",
      "metadata": {
        "id": "-Upgg7smVtgC"
      },
      "source": [
        "2. Write a program that reads a floating-point number and prints “zero” if the number is zero.\n",
        "Otherwise, print “positive” or “negative”. Add “small” if the absolute value of the number is less\n",
        "than 1,000,000 or “large” if it exceeds 1,000,000."
      ]
    },
    {
      "cell_type": "code",
      "execution_count": null,
      "metadata": {
        "colab": {
          "base_uri": "https://localhost:8080/"
        },
        "id": "NDh0PLTEVwd-",
        "outputId": "f2e2afad-0e54-43ee-b2d6-84af12202bb4"
      },
      "outputs": [
        {
          "name": "stdout",
          "output_type": "stream",
          "text": [
            "Enter a value: -3020000\n",
            "negative\n",
            "large\n"
          ]
        }
      ],
      "source": [
        "value = float(input('Enter a value: '))\n",
        "if value == 0:\n",
        "  print('zero')\n",
        "elif value > 0:\n",
        "  print ('positive')\n",
        "else:\n",
        "  print('negative')\n",
        "\n",
        "if abs(value) < 1000000:\n",
        "  print ('small')\n",
        "else:\n",
        "  print('large')"
      ]
    },
    {
      "cell_type": "markdown",
      "metadata": {
        "id": "1dsl51jLXgTs"
      },
      "source": [
        "3. Write an if-else statement with multiple branches.\n",
        "If year is 2101 or later, print \"Distant future\" (without quotes). Otherwise, if year is 2001 or\n",
        "greater, print \"21st century\". Otherwise, if year is 1901 or greater, print \"20th century\". Else\n",
        "(1900 or earlier), print \"Long ago\""
      ]
    },
    {
      "cell_type": "code",
      "execution_count": null,
      "metadata": {
        "colab": {
          "base_uri": "https://localhost:8080/"
        },
        "id": "Ib3P_5s9Xhax",
        "outputId": "fed3b6d0-39cd-48cb-f575-935b8b05d77d"
      },
      "outputs": [
        {
          "name": "stdout",
          "output_type": "stream",
          "text": [
            "Enter a year: 2035\n",
            "21st century\n"
          ]
        }
      ],
      "source": [
        "year = int(input('Enter a year: '))\n",
        "if year >= 2101:\n",
        "  print('Distant Future')\n",
        "elif year >= 2001:\n",
        "  print('21st century')\n",
        "elif year >= 1901:\n",
        "  print('20th century')\n",
        "else:\n",
        "  print('Long ago')"
      ]
    },
    {
      "cell_type": "markdown",
      "metadata": {
        "id": "cfsqP2XJa0NW"
      },
      "source": [
        "4. Write a program whose inputs are three integers, and whose output is the smallest of\n",
        "the three values."
      ]
    },
    {
      "cell_type": "code",
      "execution_count": null,
      "metadata": {
        "colab": {
          "base_uri": "https://localhost:8080/"
        },
        "id": "yQPjz7Ofa3sh",
        "outputId": "8055eb21-0c0e-4aed-df5b-1d2badf0cadf"
      },
      "outputs": [
        {
          "name": "stdout",
          "output_type": "stream",
          "text": [
            "Enter first integer -3050\n",
            "Enter second integer -10000\n",
            "Enter third integer -23\n",
            "The smallest number is  -10000\n"
          ]
        }
      ],
      "source": [
        "numOne = int(input('Enter first integer '))\n",
        "numTwo = int(input('Enter second integer '))\n",
        "numThree = int(input('Enter third integer '))\n",
        "smallestNum = min(numOne,numTwo,numThree)\n",
        "print('The smallest number is ', smallestNum)"
      ]
    },
    {
      "cell_type": "markdown",
      "metadata": {
        "id": "PgZGxpTfcSZT"
      },
      "source": [
        "5. Write a program that reads a temperature value and the letter C for Celsius or F for Fahrenheit. Print\n",
        "whether water is liquid, solid, or gaseous at the given temperature at sea level\n"
      ]
    },
    {
      "cell_type": "code",
      "execution_count": 1,
      "metadata": {
        "colab": {
          "base_uri": "https://localhost:8080/"
        },
        "id": "BIEtpQ3OcUZ8",
        "outputId": "091438c1-f6fb-4003-ec48-eebeec4b0d8e"
      },
      "outputs": [
        {
          "name": "stdout",
          "output_type": "stream",
          "text": [
            "At that temperature, water is liquid\n"
          ]
        }
      ],
      "source": [
        "tempValue = float(input('Enter temperature value: '))\n",
        "metric = input('What is the unit of measurement: Enter  letter C for Celsius or F for Fahrenheit: ')\n",
        "if metric == 'C' or metric == 'c':\n",
        "  if tempValue < 0:\n",
        "    print('At that temperature, water is solid')\n",
        "  elif tempValue < 100:\n",
        "    print('At that temperature, water is liquid')\n",
        "  else:\n",
        "    print('At that temperature, water is gaseous')\n",
        "\n",
        "elif metric == 'F' or metric == 'f':\n",
        "  if tempValue < 32:\n",
        "    print('At that temperature, water is solid')\n",
        "  elif tempValue < 212:\n",
        "    print('At that temperature, water is liquid')\n",
        "  else:\n",
        "    print('At that temperature, water is gaseous')\n",
        "\n",
        "else:\n",
        "  print ('Wrong letter chosen for unit of measurement')"
      ]
    }
  ],
  "metadata": {
    "colab": {
      "authorship_tag": "ABX9TyNQVvOGmyk/S4Mnx7jP7blz",
      "include_colab_link": true,
      "provenance": []
    },
    "kernelspec": {
      "display_name": "Python 3",
      "name": "python3"
    },
    "language_info": {
      "codemirror_mode": {
        "name": "ipython",
        "version": 3
      },
      "file_extension": ".py",
      "mimetype": "text/x-python",
      "name": "python",
      "nbconvert_exporter": "python",
      "pygments_lexer": "ipython3",
      "version": "3.11.4"
    }
  },
  "nbformat": 4,
  "nbformat_minor": 0
}
