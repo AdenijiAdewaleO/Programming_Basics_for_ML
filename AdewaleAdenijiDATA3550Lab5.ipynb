{
  "cells": [
    {
      "cell_type": "markdown",
      "metadata": {
        "id": "view-in-github",
        "colab_type": "text"
      },
      "source": [
        "<a href=\"https://colab.research.google.com/github/AdenijiAdewaleO/Programming_Basics_for_ML/blob/main/AdewaleAdenijiDATA3550Lab5.ipynb\" target=\"_parent\"><img src=\"https://colab.research.google.com/assets/colab-badge.svg\" alt=\"Open In Colab\"/></a>"
      ]
    },
    {
      "cell_type": "markdown",
      "id": "5112100f",
      "metadata": {
        "id": "5112100f"
      },
      "source": [
        "## Question 1: Create a program that takes an adult user input of weight and height, and output the BMI index together with some health advice."
      ]
    },
    {
      "cell_type": "code",
      "execution_count": null,
      "id": "ff8b331b",
      "metadata": {
        "id": "ff8b331b"
      },
      "outputs": [],
      "source": [
        "def calcBMI (weight: float, height: float, unit_in_kgm: bool = True):\n",
        "\n",
        "    '''\n",
        "    Function calculates the BMI of an individual given the individual's weight, height and unit of measurement\n",
        "    Weight: Float\n",
        "    Height: Float\n",
        "    unit_in_kgm: Boolean, default is True\n",
        "\n",
        "    '''\n",
        "\n",
        "    # Exception handling to ensure input value for weight and height are number values\n",
        "    try:\n",
        "        float(weight)\n",
        "        float(height)\n",
        "    except:\n",
        "        print('ValueError! One of your values is not a number')\n",
        "\n",
        "    else:\n",
        "        if not unit_in_kgm:\n",
        "            weight = weight * 0.453592    # Convert weight from pounds to kilograms\n",
        "            height = height * 0.0254      # Convert height from inches to meters\n",
        "\n",
        "        bmi = round(weight/(height**2),2)\n",
        "\n",
        "        if bmi < 18.5:\n",
        "            status = 'Status: Underweight  \\nStay healthy by getting more healthy foods in your diet.'\n",
        "        elif bmi < 25:\n",
        "            status = 'Status: Healthy weight  \\nContinue to keep a healthy lifestyle!'\n",
        "        elif bmi < 30:\n",
        "            status = 'Status: Overweight  \\nTalk with your doctor about steps you can take to stay healthy or improve your health.'\n",
        "        else:\n",
        "            status = 'Status: Obesity  \\nYour doctor may need to do other tests to check your risk for health problems'\n",
        "\n",
        "        print(f'Your BMI is {bmi}')\n",
        "        print(status)\n",
        "\n",
        "        return bmi,status\n"
      ]
    },
    {
      "cell_type": "code",
      "execution_count": null,
      "id": "60f391df",
      "metadata": {
        "id": "60f391df",
        "outputId": "22315b77-d18d-4f27-8bb5-c62c01885812"
      },
      "outputs": [
        {
          "name": "stdout",
          "output_type": "stream",
          "text": [
            "Your BMI is 24.69\n",
            "Status: Healthy weight  \n",
            "Continue to keep a healthy lifestyle!\n"
          ]
        }
      ],
      "source": [
        "ade = calcBMI(80,1.8)\n"
      ]
    },
    {
      "cell_type": "markdown",
      "id": "260293db",
      "metadata": {
        "id": "260293db"
      },
      "source": [
        "## Question 2: Write a program that first reads in the name of an input file, followed by two strings representing the lower and upper bounds of a search range. The enclosed file (Wk10_Lab5_1211_input.txt) contains a list of alphabetical, ten-letter words with each word on a separate line. The file can be read using the file.readlines() method. Your program should output all strings from the list that are within that range (inclusive of the bounds).       "
      ]
    },
    {
      "cell_type": "code",
      "execution_count": null,
      "id": "5cdf7e36",
      "metadata": {
        "id": "5cdf7e36"
      },
      "outputs": [],
      "source": [
        "def searchFile ():\n",
        "    import os\n",
        "    file_name = input('Enter name of file: ')\n",
        "    str1 = input('Enter string for lower search bound: ')\n",
        "    str2 = input('Enter string for upper search bound: ')\n",
        "\n",
        "    alpha_list = ['a', 'b', 'c', 'd', 'e', 'f', 'g', 'h', 'i', 'j', 'k', 'l', 'm',\n",
        "                 'n', 'o', 'p', 'q', 'r', 's', 't', 'u', 'v', 'w', 'x', 'y', 'z' ]\n",
        "\n",
        "    if alpha_list.index(str1[0].lower()) <= alpha_list.index(str2[0].lower()):\n",
        "        lower_bound = str1\n",
        "        upper_bound = str2\n",
        "    else:\n",
        "        lower_bound = str2\n",
        "        upper_bound = str1\n",
        "\n",
        "    try:\n",
        "        with open (file_name, 'r') as f:\n",
        "            word_list = f.readlines()\n",
        "\n",
        "    except:\n",
        "        print('Error! File not found or wrong file path')\n",
        "\n",
        "    else:\n",
        "        if (lower_bound + '\\n') not  in word_list:\n",
        "            for item in word_list:\n",
        "                if alpha_list.index(lower_bound[0]) <= alpha_list.index(item[0]):\n",
        "                    lower_index = word_list.index(item)\n",
        "                    break\n",
        "                else:\n",
        "                    pass\n",
        "        else:\n",
        "            lower_index = word_list.index(lower_bound+'\\n')\n",
        "\n",
        "        if (upper_bound + '\\n') not in word_list:\n",
        "            for item in word_list:\n",
        "                if alpha_list.index(upper_bound[0]) > alpha_list.index(item[0]):\n",
        "                    pass\n",
        "                else:\n",
        "                    upper_index = word_list.index(item)\n",
        "                    break\n",
        "        else:\n",
        "            upper_index = word_list.index(upper_bound+'\\n')\n",
        "\n",
        "        print(f'Strings in the list within the given range of {lower_bound} and {upper_bound} are: ')\n",
        "        for item in word_list[lower_index:upper_index+1]:\n",
        "            print(item)"
      ]
    },
    {
      "cell_type": "code",
      "execution_count": null,
      "id": "725af938",
      "metadata": {
        "id": "725af938",
        "outputId": "f870b798-2bf3-495c-ed4c-30686b65c232"
      },
      "outputs": [
        {
          "name": "stdout",
          "output_type": "stream",
          "text": [
            "Enter name of file: Lab5_input.txt\n",
            "Enter string for lower search bound: ammoniated\n",
            "Enter string for upper search bound: millennium\n",
            "Strings in the list within the given range of ammoniated and millennium are: \n",
            "aspiration\n",
            "\n",
            "classified\n",
            "\n",
            "federation\n",
            "\n",
            "graduation\n",
            "\n",
            "millennium\n",
            "\n"
          ]
        }
      ],
      "source": [
        "searchFile()"
      ]
    },
    {
      "cell_type": "code",
      "execution_count": null,
      "id": "fe96e8cd",
      "metadata": {
        "id": "fe96e8cd",
        "outputId": "c1c6802e-dfad-47e4-e032-c8373becf253"
      },
      "outputs": [
        {
          "data": {
            "text/plain": [
              "'A'"
            ]
          },
          "execution_count": 207,
          "metadata": {},
          "output_type": "execute_result"
        }
      ],
      "source": [
        "Lab5_input.txt\n",
        "aspiration\n",
        "classified\n",
        "federation\n",
        "graduation\n",
        "millennium\n",
        "philosophy\n",
        "quadratics\n",
        "transcript\n",
        "wilderness\n",
        "zoologists"
      ]
    },
    {
      "cell_type": "markdown",
      "id": "66515faf",
      "metadata": {
        "id": "66515faf"
      },
      "source": [
        "## Question 3: An acronym is a word formed from the initial letters of words in a set phrase. Write a program whose input is a phrase and whose output is an acronym of the input. If a word begins with a lower-case letter, don't include that letter in the acronym. Assume there will be at least one upper case letter in the input. 25%\n",
        "Ex: If the input is “Northern Alberta Institute of Technology”, then the output is “NAIT”."
      ]
    },
    {
      "cell_type": "code",
      "execution_count": null,
      "id": "5b5fbc76",
      "metadata": {
        "id": "5b5fbc76"
      },
      "outputs": [],
      "source": [
        "def acronymFunc(input_phrase: str) -> str:\n",
        "\n",
        "    phrase_list = input_phrase.split()\n",
        "    phrase_len = len(phrase_list)\n",
        "    acronym = ''\n",
        "\n",
        "    for item in phrase_list:\n",
        "        if item[0].isupper():\n",
        "            acronym += item[0]\n",
        "    if acronym == '':\n",
        "        print('Your phrase has no upper case letter')\n",
        "    return acronym"
      ]
    },
    {
      "cell_type": "code",
      "execution_count": null,
      "id": "be1d7e67",
      "metadata": {
        "id": "be1d7e67"
      },
      "outputs": [],
      "source": [
        "text = 'Northern Alberta Institute of Technology'"
      ]
    },
    {
      "cell_type": "code",
      "execution_count": null,
      "id": "c823039e",
      "metadata": {
        "id": "c823039e",
        "outputId": "a9f197ad-cd2e-445c-8946-8219fcaaf8b2"
      },
      "outputs": [
        {
          "data": {
            "text/plain": [
              "'NAIT'"
            ]
          },
          "execution_count": 162,
          "metadata": {},
          "output_type": "execute_result"
        }
      ],
      "source": [
        "acronymFunc(text)"
      ]
    },
    {
      "cell_type": "markdown",
      "id": "881818a5",
      "metadata": {
        "id": "881818a5"
      },
      "source": [
        "## Question 4: Write a program that asks a user to type in two strings and that prints\n",
        "• The characters that occur in both strings.\n",
        "• The characters that occur in one string but not the other.\n",
        "Use the set function to turn a string into a set of characters."
      ]
    },
    {
      "cell_type": "code",
      "execution_count": null,
      "id": "96b2d59b",
      "metadata": {
        "id": "96b2d59b"
      },
      "outputs": [],
      "source": [
        "def strCompare():\n",
        "    str1 = input('Enter string 1: ')\n",
        "    str2 = input('Enter string 2: ')\n",
        "\n",
        "    str1_set = set(str1)\n",
        "    str2_set = set(str2)\n",
        "\n",
        "    try:\n",
        "        str1_set.remove(' ')\n",
        "        str2_set.remove(' ')\n",
        "    except:\n",
        "        pass\n",
        "\n",
        "    str_intersect = str1_set & str2_set\n",
        "    str1_exclusive = str1_set - str2_set\n",
        "    str2_exclusive = str2_set - str1_set\n",
        "\n",
        "    print(f'Characters that occur in both strings are: {str_intersect}')\n",
        "    print (f'Characters that are in String 1 but not in 2 are: {str1_exclusive}')\n",
        "    print (f'Characters that are in String 2 but not in 1 are: {str2_exclusive}')"
      ]
    },
    {
      "cell_type": "code",
      "execution_count": null,
      "id": "09f6500d",
      "metadata": {
        "id": "09f6500d",
        "outputId": "9a85b72a-f267-4365-c01b-1701da79a937"
      },
      "outputs": [
        {
          "name": "stdout",
          "output_type": "stream",
          "text": [
            "Enter string 1: Ade ola\n",
            "Enter string 2: Ade wale\n",
            "Characters that occur in both strings are: {'A', 'l', 'e', 'a', 'd'}\n",
            "Characters that are in String 1 but not in 2 are: {'o'}\n",
            "Characters that are in String 2 but not in 1 are: {'w'}\n"
          ]
        }
      ],
      "source": [
        "strCompare()"
      ]
    }
  ],
  "metadata": {
    "kernelspec": {
      "display_name": "Python 3 (ipykernel)",
      "language": "python",
      "name": "python3"
    },
    "language_info": {
      "codemirror_mode": {
        "name": "ipython",
        "version": 3
      },
      "file_extension": ".py",
      "mimetype": "text/x-python",
      "name": "python",
      "nbconvert_exporter": "python",
      "pygments_lexer": "ipython3",
      "version": "3.11.4"
    },
    "colab": {
      "provenance": [],
      "include_colab_link": true
    }
  },
  "nbformat": 4,
  "nbformat_minor": 5
}