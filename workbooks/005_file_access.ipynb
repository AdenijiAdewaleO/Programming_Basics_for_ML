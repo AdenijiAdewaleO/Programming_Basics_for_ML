{
 "cells": [
  {
   "cell_type": "code",
   "execution_count": null,
   "metadata": {},
   "outputs": [],
   "source": []
  },
  {
   "attachments": {},
   "cell_type": "markdown",
   "metadata": {},
   "source": [
    "# File Access\n",
    "\n",
    "In data science we are almost always going to be connecting to some file or database to get some data. In python code we can access files or other resources by loading in a library that \"knows\" how to communicate with the underlying computer, then asking it to read or write what we want to access. \n",
    "\n",
    "There are libraries written to handle many different types of data in Python such as PDFs, Excel files, and database extracts. The most common thing we'll be using is a CSV - comma separated value - file, a CSV is more or less an Excel table without any formatting or \"smarts\", just the raw data. \n",
    "\n",
    "## Pandas\n",
    "\n",
    "A key library that we'll use to access data is called Pandas. Pandas provides us with a dataframe, a type of data structure that is basically an internal spreadsheet with rows, columns, and values. "
   ]
  }
 ],
 "metadata": {
  "language_info": {
   "name": "python"
  },
  "orig_nbformat": 4
 },
 "nbformat": 4,
 "nbformat_minor": 2
}
