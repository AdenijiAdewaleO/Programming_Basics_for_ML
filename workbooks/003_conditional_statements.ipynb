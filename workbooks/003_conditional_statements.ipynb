{
 "cells": [
  {
   "cell_type": "code",
   "execution_count": null,
   "metadata": {},
   "outputs": [],
   "source": []
  },
  {
   "attachments": {},
   "cell_type": "markdown",
   "metadata": {},
   "source": [
    "# Conditional Statements\n",
    "\n",
    "Conditional statements are what allow us to introduce logic into our programs, so we can tell them to do different things in different scenarios. \n",
    "\n",
    "## If\n",
    "\n",
    "One of the most important words in computer science is \"if\", which allows us to make a conditional statement. An if statement is a command that allows us to:\n",
    "<ul>\n",
    "<li> Ask some question.</li>\n",
    "<li> Do one thing if it is true.</li>\n",
    "<li> Do something else if it is false.</li>\n",
    "</ul>\n",
    "\n",
    "This concept allows computer programs to be more useful than just a set of automated instruction, and we can stack several if statements (along with other logic commands), to make a program capable of doing almost anything we desire. \n",
    "\n",
    "### Writing If Statements\n",
    "\n",
    "Writing an If is simple, we just need to match the syntax. "
   ]
  },
  {
   "cell_type": "code",
   "execution_count": 1,
   "metadata": {},
   "outputs": [],
   "source": [
    "num1 = 5\n",
    "num2 = 10"
   ]
  },
  {
   "cell_type": "code",
   "execution_count": null,
   "metadata": {},
   "outputs": [],
   "source": [
    "if num1 < num2:\n",
    "    print(\"num1 is less than num2\")\n"
   ]
  },
  {
   "attachments": {},
   "cell_type": "markdown",
   "metadata": {},
   "source": [
    "### Multiple Ifs and Else\n",
    "\n",
    "We can stack our if statements if we are dealing with more than one scenario. This brings us to if's best friends, else and elif. \n",
    "\n",
    "### Else and Elif\n",
    "\n",
    "Each of these statements handles what happens if the \"if\" statement is not true:\n",
    "<ul>\n",
    "<li> Elif - if the previous statement is not true, check this statement. </li>\n",
    "<li> Else - if nothing above is true, do this instead.</li>\n",
    "</ul>\n",
    "\n",
    "For the most part, these layer together along a pattern like this - we start at the first \"if\", check if it is true, and keep proceeding down until either one case is true or we hit the end of \"else\". In all cases, once one thing is true, the if-block is done, and things will proceed after it (usually after the \"else\"). \n",
    "\n",
    "<b>Note:</b> elif and if are different in that elif will only \"activate\" if the previous if/elif is false - it depends on having one of those above it. If the elif statements are replaced with regular \"if\" statement, each \"if\" would be checked independently, meaning more than one clause could activate. With all elif statements in the middle, only one outcome can happen. "
   ]
  },
  {
   "cell_type": "code",
   "execution_count": 2,
   "metadata": {},
   "outputs": [
    {
     "name": "stdout",
     "output_type": "stream",
     "text": [
      "num1 is less than num2\n"
     ]
    }
   ],
   "source": [
    "if num1 < num2:\n",
    "    print(\"num1 is less than num2\")\n",
    "elif num1 > num2:\n",
    "    print(\"num1 is greater than num2\")\n",
    "elif num1 == num2:\n",
    "    print(\"num1 is equal to num2\")\n",
    "else:\n",
    "    print(\"we're screwed\")"
   ]
  },
  {
   "attachments": {},
   "cell_type": "markdown",
   "metadata": {},
   "source": [
    "### Boolean Usage\n",
    "\n",
    "Conditional statements depend on booleans, or true false values. "
   ]
  }
 ],
 "metadata": {
  "kernelspec": {
   "display_name": "ml_env",
   "language": "python",
   "name": "python3"
  },
  "language_info": {
   "codemirror_mode": {
    "name": "ipython",
    "version": 3
   },
   "file_extension": ".py",
   "mimetype": "text/x-python",
   "name": "python",
   "nbconvert_exporter": "python",
   "pygments_lexer": "ipython3",
   "version": "3.10.9"
  },
  "orig_nbformat": 4
 },
 "nbformat": 4,
 "nbformat_minor": 2
}
