{
 "cells": [
  {
   "cell_type": "code",
   "execution_count": null,
   "metadata": {},
   "outputs": [],
   "source": []
  },
  {
   "attachments": {},
   "cell_type": "markdown",
   "metadata": {},
   "source": [
    "# Conditional Statements\n",
    "\n",
    "Conditional statements are what allow us to introduce logic into our programs, so we can tell them to do different things in different scenarios. \n",
    "\n",
    "## If\n",
    "\n",
    "One of the most important words in computer science is \"if\", which allows us to make a conditional statement. An if statement is a command that allows us to:\n",
    "<ul>\n",
    "<li> Ask some question.</li>\n",
    "<li> Do one thing if it is true.</li>\n",
    "<li> Do something else if it is false.</li>\n",
    "</ul>\n",
    "\n",
    "This concept allows computer programs to be more useful than just a set of automated instruction, and we can stack several if statements (along with other logic commands), to make a program capable of doing almost anything we desire. \n",
    "\n",
    "### Writing If Statements\n",
    "\n",
    "Writing an If is simple, we just need to match the syntax. "
   ]
  },
  {
   "cell_type": "code",
   "execution_count": 8,
   "metadata": {},
   "outputs": [],
   "source": [
    "num1 = 5\n",
    "num2 = 10\n",
    "num3 = 15"
   ]
  },
  {
   "cell_type": "code",
   "execution_count": 9,
   "metadata": {},
   "outputs": [
    {
     "name": "stdout",
     "output_type": "stream",
     "text": [
      "num1 is less than num2\n"
     ]
    }
   ],
   "source": [
    "#Note: these two if statements are independent of each other\n",
    "if num1 < num2:\n",
    "    print(\"num1 is less than num2\")\n",
    "if num3 < num2:\n",
    "    print(\"num3 is less than num2\")"
   ]
  },
  {
   "attachments": {},
   "cell_type": "markdown",
   "metadata": {},
   "source": [
    "### Multiple Ifs and Else\n",
    "\n",
    "We can stack our if statements if we are dealing with more than one scenario. This brings us to if's best friends, else and elif. \n",
    "\n",
    "### Else and Elif\n",
    "\n",
    "Each of these statements handles what happens if the \"if\" statement is not true:\n",
    "<ul>\n",
    "<li> Elif - if the previous statement is not true, check this statement. </li>\n",
    "<li> Else - if nothing above is true, do this instead.</li>\n",
    "</ul>\n",
    "\n",
    "For the most part, these layer together along a pattern like this - we start at the first \"if\", check if it is true, and keep proceeding down until either one case is true or we hit the end of \"else\". In all cases, once one thing is true, the if-block is done, and things will proceed after it (usually after the \"else\"). \n",
    "\n",
    "<b>Note:</b> elif and if are different in that elif will only \"activate\" if the previous if/elif is false - it depends on having one of those above it. If the elif statements are replaced with regular \"if\" statement, each \"if\" would be checked independently, meaning more than one clause could activate. With all elif statements in the middle, only one outcome can happen. "
   ]
  },
  {
   "cell_type": "code",
   "execution_count": 10,
   "metadata": {},
   "outputs": [
    {
     "name": "stdout",
     "output_type": "stream",
     "text": [
      "num1 is less than num2\n"
     ]
    }
   ],
   "source": [
    "if num1 < num2:\n",
    "    print(\"num1 is less than num2\")\n",
    "elif num1 > num2:\n",
    "    print(\"num1 is greater than num2\")\n",
    "elif num1 == num2:\n",
    "    print(\"num1 is equal to num2\")\n",
    "else:\n",
    "    print(\"we're screwed\")"
   ]
  },
  {
   "attachments": {},
   "cell_type": "markdown",
   "metadata": {},
   "source": [
    "### Boolean Usage\n",
    "\n",
    "Conditional statements depend on booleans, or true false values. True and False are both keywords in Python that we can use for boolean operations, which are really common in programming. The actual conditions that we test can be almost anything - comparing numbers, checking if an email address is valid, or seeing if a password is correct - the key is that whatever the condition is, it must be able to be evaluated as true or false.\n",
    "\n",
    "#### Complex Boolean Operations\n",
    "\n",
    "A huge amount of logic can be boiled down to a simple boolean operation, something is true or it isn't. We often deal with more than one criteria or condition, requiring that we build either more complex or multiple layers of logical calculations to decide what to do. \n",
    "\n",
    "For example, suppose we want to print out a line if a value is between num1 and num3 from above? We need to test two things, greater than num1 and less than num3. We can do that in two different ways, depending on what makes more sense to you - a compound equation or a series of simple if statements. "
   ]
  },
  {
   "cell_type": "code",
   "execution_count": 11,
   "metadata": {},
   "outputs": [
    {
     "name": "stdout",
     "output_type": "stream",
     "text": [
      "num2 is between num1 and num3\n"
     ]
    }
   ],
   "source": [
    "fail_number = 1\n",
    "\n",
    "if (num2 < num3) & (num2 > num1):\n",
    "    print(\"num2 is between num1 and num3\")\n",
    "\n",
    "if (fail_number < num3) & (fail_number > num1):\n",
    "    print(\"fail_number is between num1 and num3\")"
   ]
  },
  {
   "cell_type": "code",
   "execution_count": 12,
   "metadata": {},
   "outputs": [
    {
     "name": "stdout",
     "output_type": "stream",
     "text": [
      "num2 is between num1 and num3\n"
     ]
    }
   ],
   "source": [
    "if num2 < num3:\n",
    "    if num2 > num1:\n",
    "        print(\"num2 is between num1 and num3\")\n",
    "\n",
    "if fail_number < num3:\n",
    "    if fail_number > num1:\n",
    "        print(\"fail_number is between num1 and num3\")"
   ]
  },
  {
   "cell_type": "markdown",
   "metadata": {},
   "source": [
    "These methods are equivalent, in general, I'd say to try to do whichever seems to mirror the scenario that you're modelling - aim for readability. Multiple layers or multiple clauses in a conditional can make it easy to make a mistake in the logic and therefore hard to troubleshoot if there's an error. Certain scenarios will require complex logic, but we want to try to structure things as simply as possible. "
   ]
  },
  {
   "cell_type": "markdown",
   "metadata": {},
   "source": [
    "### Non-Numerical Conditionals\n",
    "\n",
    "Conditionals that are based on more complex conditions are virtually the same as the simple ones, the thing being compared just changes. We can compare two objects in an example here, such as strings. \n",
    "\n",
    "<b>Note:</b> The \"==\" part here may be very different when dealing with more complex objects that you're comparing; for example, if you were to compare two \"student\" objects in a program like Moodle, that comparison is much more complex than with numbers or text, the creator of that student object would need to define how those things can be compared. This is a highly situation dependent thing, and connects to a concept we'll touch on later \"operator overloading\" or defining what \"==\" or \"+\" means for a more complex object. "
   ]
  },
  {
   "cell_type": "code",
   "execution_count": 13,
   "metadata": {},
   "outputs": [
    {
     "name": "stdout",
     "output_type": "stream",
     "text": [
      "string1 is not equal to string2\n"
     ]
    }
   ],
   "source": [
    "string1 = \"hello\"\n",
    "string2 = \"world\"\n",
    "string3 = \"hello\"\n",
    "\n",
    "if string1 == string2:\n",
    "    print(\"string1 is equal to string2\")\n",
    "else:\n",
    "    print(\"string1 is not equal to string2\")"
   ]
  },
  {
   "cell_type": "code",
   "execution_count": 14,
   "metadata": {},
   "outputs": [
    {
     "name": "stdout",
     "output_type": "stream",
     "text": [
      "string1 is equal to string3\n"
     ]
    }
   ],
   "source": [
    "if string1 == string3:\n",
    "    print(\"string1 is equal to string3\")\n",
    "else:\n",
    "    print(\"string1 is not equal to string3\")"
   ]
  },
  {
   "attachments": {},
   "cell_type": "markdown",
   "metadata": {},
   "source": [
    "#### Testing and Edge Cases\n",
    "\n",
    "Conditional operations, particularly ones with complex logic, are a prime candidate for introducing a bug into your code. The most likely place to have an error are the edge cases, or things along the limits of what can happen. For our simple number comparisons we'd want to test things like if numbers are equal to ensure it works as expected. We'd also want to make sure we test each correct scenario, when the tested number is lower than both, higher than both, and in the middle. For complex conditional logic this can expand to a pretty large number of potential cases to test, it is worth it to do so in most cases because these are the places where errors are likely to happen, and with things like this it may work perfectly for long periods of time until you get some unlikely edge case that fails or seems correct but has the wrong result.\n",
    "\n",
    "What makes an edge case is highly situation dependent, but we probably want to ensure we test things at either side and equal to limits, empty values, 0 or negative values, incorrect data (e.g. letters in a phone number), equality in conditionals, repeated values, empty lists, or whatever else might be used in a logical statement in code. It's common for production software development have a test harness that is automatically run any time some portion of the code is updated. For example, if some programmer is working on some code that calculates grade point averages in our school example, when they submit their updates to be added to the main program, a series of tests may run to calculate some GPAs and some edge cases - GPA for no classes, average of 0, average over 4, \"IP\" (in progress, used if someone is given extra time after the end of a semester, like if they have surgery on Dec 1) to ensure the result was ok for all these things that might happen. \n",
    "\n",
    "In general, we want to setup tests for each potential outcome, values on the decision boundary, as well erroneous values that may be likely to occur. In  "
   ]
  },
  {
   "cell_type": "markdown",
   "metadata": {},
   "source": [
    "## Exercise\n",
    "\n",
    "The grading system at NAIT is here: https://www.nait.ca/nait/admissions/office-of-the-registrar/grading-system Write a conditional statement to take in a percentage, and output a letter grade. "
   ]
  },
  {
   "cell_type": "code",
   "execution_count": null,
   "metadata": {},
   "outputs": [],
   "source": [
    "grade1 = 90\n",
    "grade2 = 82\n",
    "grade3 = 95.21\n",
    "grade4 = 72.3\n",
    "grade5 = 45\n",
    "\n",
    "#Write your statement here"
   ]
  }
 ],
 "metadata": {
  "kernelspec": {
   "display_name": "ml_env",
   "language": "python",
   "name": "python3"
  },
  "language_info": {
   "codemirror_mode": {
    "name": "ipython",
    "version": 3
   },
   "file_extension": ".py",
   "mimetype": "text/x-python",
   "name": "python",
   "nbconvert_exporter": "python",
   "pygments_lexer": "ipython3",
   "version": "3.10.9"
  },
  "orig_nbformat": 4
 },
 "nbformat": 4,
 "nbformat_minor": 2
}
