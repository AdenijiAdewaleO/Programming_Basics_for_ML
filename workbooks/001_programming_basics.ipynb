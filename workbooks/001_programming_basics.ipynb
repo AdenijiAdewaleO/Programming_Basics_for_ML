{
 "cells": [
  {
   "cell_type": "code",
   "execution_count": null,
   "metadata": {},
   "outputs": [],
   "source": []
  },
  {
   "attachments": {},
   "cell_type": "markdown",
   "metadata": {},
   "source": [
    "# Programming Basics in Python\n",
    "\n",
    "## Variables\n",
    "\n",
    "Variables are a fundamental concept in programming. In short, a variable is an object (more on that later) that holds some value - a number, a string (text), a list, etc...\n",
    "\n",
    "We can create variables by giving them a name, then saying what is in it. Of note, text needs to be in quotation marks, while numbers, variable names, and most other things are just text. \n",
    "\n",
    "### Naming Variables\n",
    "\n",
    "Variables can be named almost anything you want, there are a few guidelines that will make it easier to manage though:\n",
    "<ul>\n",
    "<li> Names should have some meaning - we want to be able to identify what a variable is, especially if others ever look at our code.</li>\n",
    "<li> It's common to shorten or abbreviate variable names, but it is probably a bad convention outside of extremely common ones from the outside world like rpm or b2c - even then, it's probably better to spell it out more. Modern coding tools, even the more basic non-AI based autocomplete type ones, are great at automatically filling in full variable names, so the advantage of being lazy is quickly disappearing. \n",
    "<li> Some varaible names have <i>default</i> usages that you'll get used to, it is a good idea to not overlap these names. A few of the really common ones are: \n",
    "    <ul>\n",
    "    <li> X - features, or input values for predictive models.</li>\n",
    "    <li> Y - target, or what we want to predict in a predictive model.</li>\n",
    "    <li> Single letters (i, n, m, k, m, etc...) - often indexes or counters for position or looping. This will make more sense after the next ~3 workbooks.</li>\n",
    "    <li> df \n",
    "    </ul>\n",
    "<li> There are several keywords which you can't use, and may or may not be banned from using in different cases. Things like lowercase true/false, def, etc...</li>\n",
    "<li> Names that come from other libraries (again, this will make more sense after a few workbooks) aren't banned, but overlapping names with functions that exist elsewhere and may or may not be imported into your code, can be confusing. For example, don't try to use names like pi or sqrt. </li>\n",
    "</ul>"
   ]
  },
  {
   "cell_type": "code",
   "execution_count": 1,
   "metadata": {},
   "outputs": [],
   "source": [
    "name = \"akeem\"\n",
    "i = 0\n",
    "height = 72.5"
   ]
  },
  {
   "attachments": {},
   "cell_type": "markdown",
   "metadata": {},
   "source": [
    "### Output\n",
    "\n",
    "In notebook files we get our output directly under each code block. In general, whatever the last line outputs will be printed below the block. If we want to print specific things, we can \"wrap\" our values in a print() function - this takes the output of whatever we give it and forces it to print. \n",
    "\n",
    "<b>Note:</b> this is also a simple example of something we'll use a lot later, a function. The print function takes in some value as an input, and prints whatever that is as output. "
   ]
  },
  {
   "cell_type": "code",
   "execution_count": 2,
   "metadata": {},
   "outputs": [
    {
     "name": "stdout",
     "output_type": "stream",
     "text": [
      "akeem\n",
      " is this many inches tall:\n"
     ]
    },
    {
     "data": {
      "text/plain": [
       "72.5"
      ]
     },
     "execution_count": 2,
     "metadata": {},
     "output_type": "execute_result"
    }
   ],
   "source": [
    "print(name)\n",
    "print(\"is this many inches tall:\")\n",
    "height"
   ]
  },
  {
   "attachments": {},
   "cell_type": "markdown",
   "metadata": {},
   "source": [
    "### Variable Types\n",
    "\n",
    "Variables in Python are <i>weakly typed</i> (though this is kind of changing), meaning that a variable can hold any type of value and change between them. This is in contrast to other languages like C or Java, where each variable has a predefined type. Some of the common types we'll deal with are:\n",
    "<ul>\n",
    "<li> Integer - a whole number (-2,-1,0,1,2...)</li>\n",
    "<li> Float - a decimal number (3.14, -23.2345, 0.04)</li>\n",
    "<li> Character - a letter, number, or puncuation (a, 3, #, ')</li>\n",
    "<li> String - text, a \"string\" of characters (\"my desk is cold\", \"bob\", \"a\")</li>\n",
    "<li> List - a series of several variables.</li>\n",
    "<li> Boolean - a True/False value. <b>Note:</b> True/False is normally directly mapped to 1/0; the two sets of values are often used interchangably and you should probably assume that they'll be interpreted interchangablly if you use them.</li>\n",
    "</ul>\n",
    "\n",
    "We can ask a variable what it is, this is more useful as your programs get more complex as you might be manipulating values and grab an incorrect type"
   ]
  },
  {
   "cell_type": "code",
   "execution_count": 3,
   "metadata": {},
   "outputs": [
    {
     "name": "stdout",
     "output_type": "stream",
     "text": [
      "<class 'str'>\n",
      "<class 'int'>\n"
     ]
    }
   ],
   "source": [
    "print(type(name))\n",
    "print(type(i))"
   ]
  },
  {
   "attachments": {},
   "cell_type": "markdown",
   "metadata": {},
   "source": [
    "### Changing Variables\n",
    "\n",
    "Variables are automatically created when \"declared\" or instantiated, which is the 'name = \"akeem\"' type statements above. We can also change them by either redoing that declaration, or applying some action (function). "
   ]
  },
  {
   "cell_type": "code",
   "execution_count": 7,
   "metadata": {},
   "outputs": [
    {
     "name": "stdout",
     "output_type": "stream",
     "text": [
      "1\n"
     ]
    }
   ],
   "source": [
    "i = i + 1\n",
    "print(i)"
   ]
  },
  {
   "attachments": {},
   "cell_type": "markdown",
   "metadata": {},
   "source": [
    "## Objects and Viewing Variables\n",
    "\n",
    "One concept that we'll address in more detail later, but I want to introduce early, is the idea of an object, in the context of object-oriented programming. Read this now, if everything doesn't make sense, that's fine, we'll revisit it soon. This is a concept which is pretty simple... once it clicks for you. When you first start programming it will take a bit for it to click, and that \"bit\" is really variable from person to person. In short, the idea of object-oriented programming is that we create \"objects\" in the memory of our program, and the bulk of the program is those objects interacting with each other and being acted upon. For example, we can think of a simple version of a university, think of a system to track grades - a more simplified Moodle. There would be objects representing, roughly, each noun that we care about - student, class, class-offering, registration, instructor, etc... Each of these objects would be made up of a few things:\n",
    "<ul>\n",
    "<li> Attributes - these are variables that hold information about the object. For example, the student object would have an attribute for name and birthdate, the class-offering object would have attributes for location and time. </li>\n",
    "<li> Methods - these are functions that the object can \"do\" or have done to it. For example, the class-offering object may have a \"reschudle\" function that updates that offerings time and place after checking for conflicts, or it may have a \"close course\" function that finalizes the grades and marks things to read-only. \n",
    "<li> Self - one important aspect is that objects are \"aware\" and can refer to them selves. There is an automatic \"self\" prefix that an object uses to refer to and act on it's own attributes and methods. For example, a class-offfering object can call self.description to update the attribute of the offering's description, or it can call it's self.reschedule() function to change when or where it is.</li>\n",
    "</ul>\n",
    "\n",
    "A program is basically built up from creating instances, or individual examples, of the different types of objects that we need to model our scenario, then using the different methods to perform whichever actions need to be done. For a school, a bunch of students, courses, classes, and registrations are created with all their attributes, then their methods to register, withdraw, schedule, grade, etc... are called to go through the process of doing school. \n",
    "\n",
    "If it helps, we can kind of visualize the objects physically. We have a template of a generic student, class, and offering, and when one is created we instantiate, or create a new instance of the object from that template. These objects float around and interact with each other - a student object calls on a class-offering object's \"registerStudent\" function to create a registration object when they click on the web button to register. That function takes the student's info, the \"self\" info about the offering, checks to make sure there's no space or schedule conflicts, and calls on the constructor (a function that creates a new object) of the registration class to make that new registration object connecting the student and the class, and store that new registration object in the bucket with all the others. \n",
    "\n",
    "As we make simpler variables like strings and numbers, the same process is occurring - though for the built-in data types it is kind of obscured for convenience. Every time we make a string variable we are actually calling on the string class to make a new string object, and when we add to or subtract from it we are calling on it's functions to do the work on itself. We just don't notice because the language allows us to use strings without effort, because they are so common. One of the most common programming languages, C++, did not, at least when I learned it in school have built in strings - you would have to either import an outside library, or use the default of an array of characters. Python is way easier. \n",
    "\n",
    "### Viewing Current Objects\n",
    "\n",
    "We can view a list of the currently existing objects in the program's memory at any time by clicking the \"Variables\" button on the toolbar of VS Code. We get a list of all the objects that have been created to this point and their values. For simple things like integers, strings, even lists we'll see the actual value, for complex objects like a student in our fake school there will be lots of data and objects in objects in objects (e.g. a student could contain \"address\" objects, which in turn contain \"postal code*\" objects, which in turn contain strings), so the \"value\" column becomes less readable. These objects are all of the things that our program \"knows\", and each (mostly) line of code either adds to or does something to one the objects. Programming is just doing the correct action to the correct one of my objects in that variables list, that scales up to just having larger lists of larger numbers of items, but the concept is the same. \n",
    "\n",
    "In my experience learning how to code, really understanding this conceptually and being able to relate it to actual programming was a big step in code really making sense to me. \n",
    "\n",
    "\\* You may say, \"the postal code is just a string, why make another type of object for it?\" This is a good example of smart design to make things easier. If you had a normal string, you'd probably want to check if that was valid as a postal code, so you'd write a function to check it. If there was a postal code object, it would only allow valid postal codes to be created as it would check itself - this would mean that you never miss something in verifying a postal code and any changes are automatic. There could even be the ability to have the object check itself vs the street address provided to verify accuracy. We want to centralize actions in one location as much as possible almost all the time, which means we want to have objects that can \"handle themselves\" or do most things you may need to do with an object internally. Someone shouldn't be updating a postal code by grabbing the student object's \"postal code\" text field and typing in a new value; the update should happen by accessing the \"postal code\" object, asking it to run the \"update\" function with the new postal code as an input, which then makes sure that everything is ok and does all the work. No one needs to know anything about a postal code to use it, this makes it portable to other programs, and rather than having a million implementations of everything leading to inconsistencies and errors, we can have one object that does a thing, check that it works, then everyone can just borrow it. This is what we do when we import the common packages that we'll need for data science - pandas, sklearn, keras, etc... - there is a standardized implementation of \"accuracy\" that we know is correct, and we can just call it instead of calculating it. "
   ]
  },
  {
   "attachments": {},
   "cell_type": "markdown",
   "metadata": {},
   "source": [
    "## Lists and Data Structures\n",
    "\n",
    "In most programs we want to have lots of variables which allow us to do some complex things. In programming speak that leads us to the idea of <b>data structures</b>, or containers that hold many variables at once. \n",
    "\n",
    "### Lists \n",
    "\n",
    "Lists are the most simple data structure in Python, they are basically just a list of variables. Lists are denoted by square brackets []"
   ]
  },
  {
   "cell_type": "code",
   "execution_count": 4,
   "metadata": {},
   "outputs": [
    {
     "data": {
      "text/plain": [
       "['akeem', 0, 72.5, 'this measures my height']"
      ]
     },
     "execution_count": 4,
     "metadata": {},
     "output_type": "execute_result"
    }
   ],
   "source": [
    "my_stuff = [name, i, height, \"this measures my height\"]\n",
    "my_stuff"
   ]
  },
  {
   "attachments": {},
   "cell_type": "markdown",
   "metadata": {},
   "source": [
    "### List Basics\n",
    "\n",
    "Lists can contain a limitless number of items, of any type. Manipulating lists requires the idea of the position, or index, of an item in the list. This is how we can refer directly to one item from our list. To get a specific item we can use square brackets and the index, or position number, to specify one item from the list. \n",
    "\n",
    "### Indexing and Length\n",
    "\n",
    "Most data structures that have positions, like our list, are \"0 indexed\", which just means that the first position is position 0. This is in contrast to something that is \"1 indexed\", where the first item is item #1, like you might count in normal life. This isn't universal, but it is close to it, so the first item is (pretty much) always item #0. Extending from this, the last item will be \"length - 1\", as our list of 4 items has things in positions 0, 1, 2, and 3. We can ask for the length using the len() function. \n",
    "\n",
    "<b>Note:</b> there are other ways to get each item from a list that will be used more later as they are more efficient. The idea of accessing things via an index is transferable to lots of programming-ish topics and is really critical. "
   ]
  },
  {
   "cell_type": "code",
   "execution_count": 5,
   "metadata": {},
   "outputs": [
    {
     "data": {
      "text/plain": [
       "'akeem'"
      ]
     },
     "execution_count": 5,
     "metadata": {},
     "output_type": "execute_result"
    }
   ],
   "source": [
    "my_stuff[0]"
   ]
  },
  {
   "cell_type": "code",
   "execution_count": 6,
   "metadata": {},
   "outputs": [
    {
     "name": "stdout",
     "output_type": "stream",
     "text": [
      "4\n",
      "this measures my height\n"
     ]
    }
   ],
   "source": [
    "my_length = len(my_stuff)\n",
    "print(my_length)\n",
    "print(my_stuff[my_length - 1])"
   ]
  }
 ],
 "metadata": {
  "kernelspec": {
   "display_name": "ml_env",
   "language": "python",
   "name": "python3"
  },
  "language_info": {
   "codemirror_mode": {
    "name": "ipython",
    "version": 3
   },
   "file_extension": ".py",
   "mimetype": "text/x-python",
   "name": "python",
   "nbconvert_exporter": "python",
   "pygments_lexer": "ipython3",
   "version": "3.10.9"
  },
  "orig_nbformat": 4
 },
 "nbformat": 4,
 "nbformat_minor": 2
}
