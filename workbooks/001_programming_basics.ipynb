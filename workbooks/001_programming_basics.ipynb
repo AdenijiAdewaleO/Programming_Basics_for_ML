{
 "cells": [
  {
   "cell_type": "code",
   "execution_count": null,
   "metadata": {},
   "outputs": [],
   "source": []
  },
  {
   "attachments": {},
   "cell_type": "markdown",
   "metadata": {},
   "source": [
    "# Programming Basics in Python\n",
    "\n",
    "## Variables\n",
    "\n",
    "Variables are a fundamental concept in programming. In short, a variable is an object (more on that later) that holds some value - a number, a string (text), a list, etc...\n",
    "\n",
    "We can create variables by giving them a name, then saying what is in it. Of note, text needs to be in quotation marks, while numbers, varaible names, and most other things are just text. \n",
    "\n",
    "### Naming Variables\n",
    "\n",
    "Variables can be named almost anything you want, there are a few guidelines that will make it easier to manage though:\n",
    "<ul>\n",
    "<li> Names should have some meaning - we want to be able to identify what a variable is, especially if others ever look at our code.</li>\n",
    "<li> Some varaible names have <i>default</i> usages that you'll get used to, it is a good idea to not overlap these names. \n",
    "    <ul>\n",
    "    <li> X - features, or input values for predictive models.</li>\n",
    "    <li> Y - target, or what we want to predict in a predictive model.</li>\n",
    "    <li> Single letters (i, n, m, etc...) - often indexes or counters for position or looping. </li>\n",
    "    </ul>\n",
    "</ul>"
   ]
  },
  {
   "cell_type": "code",
   "execution_count": 1,
   "metadata": {},
   "outputs": [],
   "source": [
    "name = \"akeem\"\n",
    "i = 0\n",
    "height = 72.5"
   ]
  },
  {
   "attachments": {},
   "cell_type": "markdown",
   "metadata": {},
   "source": [
    "### Output\n",
    "\n",
    "In notebook files we get our output directly under each code block. In general, whatever the last line outputs will be printed below the block. If we want to print specific things, we can \"wrap\" our values in a print() function - this takes the output of whatever we give it and forces it to print. \n",
    "\n",
    "<b>Note:</b> this is also a simple example of something we'll use a lot later, a function. The print function takes in some value as an input, and prints whatever that is as output. "
   ]
  },
  {
   "cell_type": "code",
   "execution_count": 2,
   "metadata": {},
   "outputs": [
    {
     "name": "stdout",
     "output_type": "stream",
     "text": [
      "akeem\n",
      " is this many inches tall:\n"
     ]
    },
    {
     "data": {
      "text/plain": [
       "72.5"
      ]
     },
     "execution_count": 2,
     "metadata": {},
     "output_type": "execute_result"
    }
   ],
   "source": [
    "print(name)\n",
    "print(\"is this many inches tall:\")\n",
    "height"
   ]
  },
  {
   "attachments": {},
   "cell_type": "markdown",
   "metadata": {},
   "source": [
    "### Variable Types\n",
    "\n",
    "Variables in Python are <i>weakly typed</i> (though this is kind of changing), meaning that a variable can hold any type of value and change between them. This is in contrast to other languages like C or Java, where each variable has a predefined type. Some of the common types we'll deal with are:\n",
    "<ul>\n",
    "<li> Integer - a whole number (-2,-1,0,1,2...)</li>\n",
    "<li> Float - a decimal number (3.14, -23.2345, 0.04)</li>\n",
    "<li> Character - a letter, number, or puncuation (a, 3, #, ')</li>\n",
    "<li> String - text, a \"string\" of characters (\"my desk is cold\", \"bob\", \"a\")</li>\n",
    "<li> List - a series of several variables.</li>\n",
    "<li> Boolean - a True/False value. <b>Note:</b> true/false is normally directly mapped to 1/0, and the two sets of values are often used interchangably.</li>\n",
    "</ul>\n",
    "\n",
    "We can ask a varaible what it is, this is more useful as your programs get more complex as you might be manipulating values and grab an incorrect type"
   ]
  },
  {
   "cell_type": "code",
   "execution_count": 3,
   "metadata": {},
   "outputs": [
    {
     "name": "stdout",
     "output_type": "stream",
     "text": [
      "<class 'str'>\n",
      "<class 'int'>\n"
     ]
    }
   ],
   "source": [
    "print(type(name))\n",
    "print(type(i))"
   ]
  },
  {
   "attachments": {},
   "cell_type": "markdown",
   "metadata": {},
   "source": [
    "### Changing Varaibles\n",
    "\n",
    "Varaibles are automatically created when \"declared\", which is the name = \"akeem\" type statements above. We can also change them by either redoing that declaration, or applying some action (function). "
   ]
  },
  {
   "cell_type": "code",
   "execution_count": 7,
   "metadata": {},
   "outputs": [
    {
     "name": "stdout",
     "output_type": "stream",
     "text": [
      "1\n"
     ]
    }
   ],
   "source": [
    "i = i + 1\n",
    "print(i)"
   ]
  },
  {
   "attachments": {},
   "cell_type": "markdown",
   "metadata": {},
   "source": [
    "## Lists and Data Structures\n",
    "\n",
    "In most programs we want to have lots of variables so we can do some complex things. In programming speak that leads us to the idea of <b>data structures</b>, or containers that hold many varaibles at once. \n",
    "\n",
    "### Lists \n",
    "\n",
    "Lists are the most simple data structure in Python, they are basically just a list of variables. Lists are denoted by square brackets []"
   ]
  },
  {
   "cell_type": "code",
   "execution_count": 4,
   "metadata": {},
   "outputs": [
    {
     "data": {
      "text/plain": [
       "['akeem', 0, 72.5, 'this measures my height']"
      ]
     },
     "execution_count": 4,
     "metadata": {},
     "output_type": "execute_result"
    }
   ],
   "source": [
    "my_stuff = [name, i, height, \"this measures my height\"]\n",
    "my_stuff"
   ]
  },
  {
   "attachments": {},
   "cell_type": "markdown",
   "metadata": {},
   "source": [
    "### List Basics\n",
    "\n",
    "Lists can contain a limitless number of items, of any type. Manipulating lists requires the idea of the position, or index, of an item in the list. This is how we can refer directly to one item from our list. To get a specific item we can use square brackets and the index, or position number, to specify one item from the list. \n",
    "\n",
    "### Indexing and Length\n",
    "\n",
    "Most data structures that have positions, like our list, are \"0 indexed\", which just means that the first position is position 0. This is in contrast to something that is \"1 indexed\", where the first item is item #1, like you might count in normal life. This isn't universal, but it is close to it, so the first item is (pretty much) always item #0. Extending from this, the last item will be \"length - 1\", as our list of 4 items has things in positions 0, 1, 2, and 3. We can ask for the length using the len() function. \n",
    "\n",
    "<b>Note:</b> there are other ways to get each item from a list that will be used more later as they are more efficient. The idea of accessing things via an index is transferable to lots of programming-ish topics and is really critical. "
   ]
  },
  {
   "cell_type": "code",
   "execution_count": 5,
   "metadata": {},
   "outputs": [
    {
     "data": {
      "text/plain": [
       "'akeem'"
      ]
     },
     "execution_count": 5,
     "metadata": {},
     "output_type": "execute_result"
    }
   ],
   "source": [
    "my_stuff[0]"
   ]
  },
  {
   "cell_type": "code",
   "execution_count": 6,
   "metadata": {},
   "outputs": [
    {
     "name": "stdout",
     "output_type": "stream",
     "text": [
      "4\n",
      "this measures my height\n"
     ]
    }
   ],
   "source": [
    "my_length = len(my_stuff)\n",
    "print(my_length)\n",
    "print(my_stuff[my_length - 1])"
   ]
  }
 ],
 "metadata": {
  "kernelspec": {
   "display_name": "ml_env",
   "language": "python",
   "name": "python3"
  },
  "language_info": {
   "codemirror_mode": {
    "name": "ipython",
    "version": 3
   },
   "file_extension": ".py",
   "mimetype": "text/x-python",
   "name": "python",
   "nbconvert_exporter": "python",
   "pygments_lexer": "ipython3",
   "version": "3.10.9"
  },
  "orig_nbformat": 4
 },
 "nbformat": 4,
 "nbformat_minor": 2
}
