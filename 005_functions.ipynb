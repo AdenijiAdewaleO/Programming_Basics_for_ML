{
 "cells": [
  {
   "cell_type": "code",
   "execution_count": null,
   "metadata": {},
   "outputs": [],
   "source": []
  },
  {
   "attachments": {},
   "cell_type": "markdown",
   "metadata": {},
   "source": [
    "# Functions\n",
    "\n",
    "Functions are something we've been using all along, they allow us to write a generic block of code that can be reused for all kinds of different purposes. If we write code to add tax to a sale, combine first and last names, or convert between inches and cm, the actual functionality of that code is always the same, just with different details, or inputs. A function allows us to write all the generic code that is ready to accept inputs, does it's job, and spits out an output. \n",
    "\n",
    "## Defining Functions\n",
    "\n",
    "Creating a function is pretty simple, there are a few things we need to think of:\n",
    "<ul>\n",
    "<li> Function name - as with variables, we want a name that makes sense. The name can be almost anything, but we want it to make sense. </li>\n",
    "<li> Inputs/Arguments - these are the values that are supplied by the person <i>using</i> the function.</li> This changes (potentially) every time the function runs. \n",
    "<li> Body - the code that we want to reuse over and over.</li>\n",
    "<li> Output/Return Value - this is the value that the function \"returns\" or the end result. Not every function needs to return a value, some just do stuff. </li>\n",
    "</ul>\n",
    "\n",
    "For example, if we have a function to add the tax to a price, or parts break down as:\n",
    "<ul>\n",
    "<li> Function name - addTax. </li>\n",
    "<li> Arguments - the price of the object and the tax rates. These things can change to anything. </li>\n",
    "<li> Body - calculate the tax and new price. </li>\n",
    "<li> Return value - the newly calculated total price.</li>\n",
    "</ul>\n",
    "\n",
    "We have to define our function first, then we can use it. "
   ]
  },
  {
   "cell_type": "code",
   "execution_count": 1,
   "metadata": {},
   "outputs": [],
   "source": [
    "def addTax(price, taxRate):\n",
    "    total = price + (price * taxRate)\n",
    "    return total"
   ]
  },
  {
   "cell_type": "code",
   "execution_count": 2,
   "metadata": {},
   "outputs": [
    {
     "name": "stdout",
     "output_type": "stream",
     "text": [
      "88.48\n",
      "119.84\n"
     ]
    }
   ],
   "source": [
    "print(addTax(79, 0.12))\n",
    "\n",
    "obj_price = 112\n",
    "gst_rate = 0.07\n",
    "\n",
    "print(addTax(obj_price, gst_rate))"
   ]
  },
  {
   "attachments": {},
   "cell_type": "markdown",
   "metadata": {},
   "source": [
    "## Outside Functions\n",
    "\n",
    "When we are using things like len(), type(), or pretty much anything else, we are using a function that was made by someone else and borrowed by us. We can also reuse our own functions in a similar way. \n",
    "\n",
    "In general, we want to put things that we want to repeat into functions, it makes our code easier to maintain, understand, and debug. If we figure out some code to perform a calculation or print a set of charts we can wrap that code in a function to allow us to repurpose it - we can perform the same calculation with any set of values, or print charts from any set of data. As well, as our functions get more complex, functions allow us to only write the complex part of our code once, so if we ever need to modify it or correct some error, that change applies everywhere the function is used and we don't need to hunt down multiple corrections. \n",
    "\n",
    "### Import Statements\n",
    "\n",
    "Import statements allow us to load in other files of code, or entire libraries of code, to use their functions without having to write them ourseleves. We can import almost anything, but the most common things that we may pull in are:\n",
    "<ul>\n",
    "<li> Premade Libraries</li>\n",
    "<li> Selfmade Helpers</li>\n",
    "</ul>\n",
    "\n",
    "Importing either just needs the import statement, along with the name of what we're importing. For the libaries that we use for most things, we can just search for the correct name, for example we can import the \"math\" library to do some math-y stuff like take a square root. We can also put our own functions in a python (.py) file that is in the same folder as our file, and import that; I've made the tax function above into addMyTax in the helper.py file. "
   ]
  },
  {
   "cell_type": "code",
   "execution_count": 7,
   "metadata": {},
   "outputs": [
    {
     "name": "stdout",
     "output_type": "stream",
     "text": [
      "3.0\n"
     ]
    }
   ],
   "source": [
    "import math\n",
    "print(math.sqrt(9))"
   ]
  },
  {
   "cell_type": "code",
   "execution_count": 6,
   "metadata": {},
   "outputs": [
    {
     "data": {
      "text/plain": [
       "119.84"
      ]
     },
     "execution_count": 6,
     "metadata": {},
     "output_type": "execute_result"
    }
   ],
   "source": [
    "import helper\n",
    "helper.addMyTax(obj_price, gst_rate)"
   ]
  },
  {
   "attachments": {},
   "cell_type": "markdown",
   "metadata": {},
   "source": [
    "### Building Helper Files\n",
    "\n",
    "One recomendation is to build up something like that helper file with things you may use repeatedly and import it to make your life easier. "
   ]
  }
 ],
 "metadata": {
  "kernelspec": {
   "display_name": "ml_env",
   "language": "python",
   "name": "python3"
  },
  "language_info": {
   "codemirror_mode": {
    "name": "ipython",
    "version": 3
   },
   "file_extension": ".py",
   "mimetype": "text/x-python",
   "name": "python",
   "nbconvert_exporter": "python",
   "pygments_lexer": "ipython3",
   "version": "3.10.9"
  },
  "orig_nbformat": 4
 },
 "nbformat": 4,
 "nbformat_minor": 2
}
