{
 "cells": [
  {
   "cell_type": "code",
   "execution_count": null,
   "metadata": {},
   "outputs": [],
   "source": []
  },
  {
   "cell_type": "markdown",
   "metadata": {},
   "source": [
    "# Recursion\n",
    "\n",
    "Recursion is another way to control the execution of your code, but it is a bit more complex than iteration. Recursion is a way to solve problems by defining a function that calls itself. The function will continue to call itself until some condition is met to return a result. This is a very powerful technique that can be used to solve many problems - it sounds complex, but can make many problems much more simple. "
   ]
  },
  {
   "cell_type": "markdown",
   "metadata": {},
   "source": [
    "### Sample Problem: Factorial\n",
    "\n",
    "The factorial of a number is the product of all positive integers less than or equal to that number. For example, the factorial of 5 is 5 * 4 * 3 * 2 * 1 = 120. This problem isn't super complex to solve, first let's create a loop to solve it iteratively."
   ]
  },
  {
   "cell_type": "code",
   "execution_count": 1,
   "metadata": {},
   "outputs": [],
   "source": [
    "def loopFactorial(n):\n",
    "    result = 1\n",
    "    for i in range(1, n+1):\n",
    "        result *= i\n",
    "    return result"
   ]
  },
  {
   "cell_type": "code",
   "execution_count": 2,
   "metadata": {},
   "outputs": [
    {
     "data": {
      "text/plain": [
       "120"
      ]
     },
     "execution_count": 2,
     "metadata": {},
     "output_type": "execute_result"
    }
   ],
   "source": [
    "loopFactorial(5)"
   ]
  },
  {
   "cell_type": "markdown",
   "metadata": {},
   "source": [
    "#### Recursion Solution\n",
    "\n",
    "Now let's reframe the problem to solve it recursively. For each execution of the loop, the running value of the calculation can be though of as:\n",
    "<ul>\n",
    "<li> The current value, starting at \"n\" for the first run. Multiplied by...</li>\n",
    "<li> The factorial of n-1. </li>\n",
    "</ul>\n",
    "\n",
    "Repeated until n-1 is 1, at which point the factorial of 1 is 1. So if we are using a 5 factorial as an input, we can think of it recursively as:\n",
    "<ul>\n",
    "<li> 5 * factorial(4) </li>\n",
    "<li> 20 * factorial(3) </li>\n",
    "<li> 60 * factorial(2) </li>\n",
    "<li> 120 * factorial(1) </li>\n",
    "<li> 120 * 1 </li>\n",
    "</ul>\n",
    "\n",
    "The core problem is always the same, but the input changes each time. Once we reach the end of the way down we can just take the answers that have been calculated and wrap them back up into an answer. If we want to implement this in Python, we can do it like this:"
   ]
  },
  {
   "cell_type": "code",
   "execution_count": null,
   "metadata": {},
   "outputs": [],
   "source": [
    "def recursionFactorial(n):\n",
    "    if n == 1:\n",
    "        return 1\n",
    "    else:\n",
    "        return n * recursionFactorial(n-1)"
   ]
  },
  {
   "cell_type": "markdown",
   "metadata": {},
   "source": [
    "### Recursive Function Setup\n",
    "\n",
    "Our new recursive version does the same thing, but with different logic. It calls itself until it reaches the base case, then returns the result. This is a very simple example, but it shows the basic structure of a recursive function. At the first call the n value is 5, so the answer is 5 * factorial(4) so the function calls itself with 4. At the second call the n value is 4, so the answer to this call is 4 * factorial(3) and it calls itself with 3... Eventually the final call is 1, so it returns 1 for recursionFactorial(1), which is multiplied by 2 and passed up the chain as the answer of 2 to recursionFactorial(2), which is multipled by 3 and becomes the answer to recursionFactorial(3)... and so on until the final answer is returned."
   ]
  },
  {
   "cell_type": "markdown",
   "metadata": {},
   "source": [
    "### Recursion vs Iteration\n",
    "\n",
    "Recursion is a very powerful technique, but it is not always the best solution. In general, recursion is best used when the problem can be broken down into a series of smaller problems that are solved in the same way. It is also useful when the problem can be solved by solving a smaller version of the same problem. For example, the factorial of 5 is 5 * 4 * 3 * 2 * 1, but the factorial of 4 is 4 * 3 * 2 * 1. The factorial of 4 is a smaller version of the factorial of 5, so we can use the same logic to solve both problems.\n",
    "\n",
    "Recursion is not always the best solution. It can be difficult to understand, and it can be difficult to debug. It can also be less efficient than an iterative solution. In general, if you can solve a problem iteratively, you should. If you can't, then you should consider using recursion."
   ]
  }
 ],
 "metadata": {
  "kernelspec": {
   "display_name": "ml_env",
   "language": "python",
   "name": "python3"
  },
  "language_info": {
   "codemirror_mode": {
    "name": "ipython",
    "version": 3
   },
   "file_extension": ".py",
   "mimetype": "text/x-python",
   "name": "python",
   "nbconvert_exporter": "python",
   "pygments_lexer": "ipython3",
   "version": "3.10.9"
  },
  "orig_nbformat": 4
 },
 "nbformat": 4,
 "nbformat_minor": 2
}
