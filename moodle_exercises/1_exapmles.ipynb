{
 "cells": [
  {
   "cell_type": "code",
   "execution_count": 1,
   "metadata": {},
   "outputs": [
    {
     "name": "stdout",
     "output_type": "stream",
     "text": [
      "Hello\n"
     ]
    }
   ],
   "source": [
    "print('Hello')"
   ]
  },
  {
   "cell_type": "code",
   "execution_count": 2,
   "metadata": {},
   "outputs": [
    {
     "name": "stdout",
     "output_type": "stream",
     "text": [
      "3 2 1 Go!\n"
     ]
    }
   ],
   "source": [
    "print('3 2 1 Go!')"
   ]
  },
  {
   "cell_type": "code",
   "execution_count": 3,
   "metadata": {},
   "outputs": [
    {
     "name": "stdout",
     "output_type": "stream",
     "text": [
      "*****\n",
      "*   *\n",
      "*****\n",
      "*   *\n",
      "*****\n"
     ]
    }
   ],
   "source": [
    "print('*****')\n",
    "print('*   *')\n",
    "print('*****')\n",
    "print('*   *')\n",
    "print('*****')"
   ]
  },
  {
   "cell_type": "code",
   "execution_count": 4,
   "metadata": {},
   "outputs": [
    {
     "name": "stdout",
     "output_type": "stream",
     "text": [
      "Hello there. My name is... Carl?\n"
     ]
    }
   ],
   "source": [
    "# Including end=' ' keeps output on same line\n",
    "print('Hello there.', end=' ')\n",
    "print('My name is...', end=' ')\n",
    "print('Carl?')\n"
   ]
  },
  {
   "cell_type": "code",
   "execution_count": 5,
   "metadata": {},
   "outputs": [
    {
     "name": "stdout",
     "output_type": "stream",
     "text": [
      "Wage is 20\n",
      "Goodbye.\n"
     ]
    }
   ],
   "source": [
    "wage = 20\n",
    "\n",
    "print('Wage is', end=' ')\n",
    "print(wage)  # print variable's value\n",
    "print('Goodbye.')"
   ]
  },
  {
   "cell_type": "code",
   "execution_count": 7,
   "metadata": {},
   "outputs": [
    {
     "name": "stdout",
     "output_type": "stream",
     "text": [
      "1\n",
      "2\n",
      "3\n"
     ]
    }
   ],
   "source": [
    "print('1\\n2\\n3')"
   ]
  },
  {
   "cell_type": "code",
   "execution_count": 8,
   "metadata": {},
   "outputs": [
    {
     "name": "stdout",
     "output_type": "stream",
     "text": [
      "123\n",
      "\n",
      "abc\n"
     ]
    }
   ],
   "source": [
    "print('123')\n",
    "print()\n",
    "print('abc')"
   ]
  },
  {
   "cell_type": "code",
   "execution_count": 9,
   "metadata": {},
   "outputs": [
    {
     "name": "stdout",
     "output_type": "stream",
     "text": [
      "Enter name of best friend: miak\n",
      "My best friend is miak\n"
     ]
    }
   ],
   "source": [
    "print('Enter name of best friend:', end=' ')\n",
    "best_friend = input()\n",
    "print('My best friend is', best_friend)"
   ]
  },
  {
   "cell_type": "code",
   "execution_count": 10,
   "metadata": {},
   "outputs": [
    {
     "name": "stdout",
     "output_type": "stream",
     "text": [
      "123\n",
      "123\n"
     ]
    }
   ],
   "source": [
    "my_string = '123'\n",
    "my_int = int('123')\n",
    "\n",
    "print(my_string)\n",
    "print(my_int)"
   ]
  },
  {
   "cell_type": "code",
   "execution_count": 12,
   "metadata": {},
   "outputs": [
    {
     "name": "stdout",
     "output_type": "stream",
     "text": [
      "Enter wage: 34\n",
      "New wage: 44\n"
     ]
    }
   ],
   "source": [
    "print('Enter wage:', end=' ')\n",
    "wage = int(input())\n",
    "\n",
    "new_wage = wage + 10\n",
    "print('New wage:', new_wage)"
   ]
  },
  {
   "cell_type": "code",
   "execution_count": 13,
   "metadata": {},
   "outputs": [
    {
     "name": "stdout",
     "output_type": "stream",
     "text": [
      "Enter hourly wage: 12\n",
      "Salary is 24000\n"
     ]
    }
   ],
   "source": [
    "hours = 40\n",
    "weeks = 50\n",
    "hourly_wage = int(input('Enter hourly wage: '))\n",
    "\n",
    "print('Salary is', hourly_wage * hours * weeks)"
   ]
  },
  {
   "cell_type": "code",
   "execution_count": 14,
   "metadata": {},
   "outputs": [
    {
     "name": "stdout",
     "output_type": "stream",
     "text": [
      "Enter age of dog (in years): 44\n",
      "\n",
      "44 dog years is about 308 human years.\n"
     ]
    }
   ],
   "source": [
    "dog_years = int(input('Enter age of dog (in years): '))\n",
    "print()\n",
    "\n",
    "human_years = 7 * dog_years\n",
    "\n",
    "print(dog_years, 'dog years is about', end=' ')\n",
    "print (human_years, 'human years.')\n"
   ]
  },
  {
   "cell_type": "code",
   "execution_count": 15,
   "metadata": {},
   "outputs": [
    {
     "name": "stdout",
     "output_type": "stream",
     "text": [
      "2\n",
      "3\n",
      "5\n"
     ]
    }
   ],
   "source": [
    "num1 = int(input())\n",
    "num2 = int(input())\n",
    "print(num1 + num2)"
   ]
  },
  {
   "cell_type": "code",
   "execution_count": 16,
   "metadata": {},
   "outputs": [
    {
     "name": "stdout",
     "output_type": "stream",
     "text": [
      "2\n",
      "3\n",
      "5\n",
      "30\n"
     ]
    }
   ],
   "source": [
    "user_num_1 = int(input())\n",
    "user_num_2 = int(input())\n",
    "user_num_3 = int(input())\n",
    "\n",
    "print(user_num_1 * user_num_2 * user_num_3)"
   ]
  },
  {
   "cell_type": "code",
   "execution_count": 17,
   "metadata": {},
   "outputs": [
    {
     "name": "stdout",
     "output_type": "stream",
     "text": [
      "This dinner is satisfying.\n"
     ]
    }
   ],
   "source": [
    "print('This dinner is satisfying.')"
   ]
  },
  {
   "cell_type": "code",
   "execution_count": 18,
   "metadata": {},
   "outputs": [
    {
     "ename": "SyntaxError",
     "evalue": "invalid syntax (<ipython-input-18-5380677a5dcf>, line 7)",
     "output_type": "error",
     "traceback": [
      "\u001b[1;36m  File \u001b[1;32m\"<ipython-input-18-5380677a5dcf>\"\u001b[1;36m, line \u001b[1;32m7\u001b[0m\n\u001b[1;33m    print(new_sal) print(user_num)\u001b[0m\n\u001b[1;37m                   ^\u001b[0m\n\u001b[1;31mSyntaxError\u001b[0m\u001b[1;31m:\u001b[0m invalid syntax\n"
     ]
    }
   ],
   "source": [
    "print('Current salary is', end=' ')\n",
    "print(45000) \n",
    "\n",
    "print('Enter new salary:', end=' ')\n",
    "new_sal = int(input())\n",
    "\n",
    "print(new_sal) print(user_num)"
   ]
  },
  {
   "cell_type": "code",
   "execution_count": 19,
   "metadata": {},
   "outputs": [
    {
     "name": "stdout",
     "output_type": "stream",
     "text": [
      "Salary is 40000\n",
      "Enter integer:  ff\n"
     ]
    },
    {
     "ename": "ValueError",
     "evalue": "invalid literal for int() with base 10: 'ff'",
     "output_type": "error",
     "traceback": [
      "\u001b[1;31m---------------------------------------------------------------------------\u001b[0m",
      "\u001b[1;31mValueError\u001b[0m                                Traceback (most recent call last)",
      "\u001b[1;32m<ipython-input-19-c56090ae49f6>\u001b[0m in \u001b[0;36m<module>\u001b[1;34m\u001b[0m\n\u001b[0;32m      3\u001b[0m \u001b[1;33m\u001b[0m\u001b[0m\n\u001b[0;32m      4\u001b[0m \u001b[0mprint\u001b[0m\u001b[1;33m(\u001b[0m\u001b[1;34m'Enter integer: '\u001b[0m\u001b[1;33m,\u001b[0m \u001b[0mend\u001b[0m\u001b[1;33m=\u001b[0m\u001b[1;34m' '\u001b[0m\u001b[1;33m)\u001b[0m\u001b[1;33m\u001b[0m\u001b[1;33m\u001b[0m\u001b[0m\n\u001b[1;32m----> 5\u001b[1;33m \u001b[0muser_num\u001b[0m \u001b[1;33m=\u001b[0m \u001b[0mint\u001b[0m\u001b[1;33m(\u001b[0m\u001b[0minput\u001b[0m\u001b[1;33m(\u001b[0m\u001b[1;33m)\u001b[0m\u001b[1;33m)\u001b[0m\u001b[1;33m\u001b[0m\u001b[1;33m\u001b[0m\u001b[0m\n\u001b[0m\u001b[0;32m      6\u001b[0m \u001b[0mprint\u001b[0m\u001b[1;33m(\u001b[0m\u001b[0muser_num\u001b[0m\u001b[1;33m)\u001b[0m\u001b[1;33m\u001b[0m\u001b[1;33m\u001b[0m\u001b[0m\n",
      "\u001b[1;31mValueError\u001b[0m: invalid literal for int() with base 10: 'ff'"
     ]
    }
   ],
   "source": [
    "print('Salary is', end=' ')\n",
    "print(20 * 40 * 50)\n",
    "\n",
    "print('Enter integer: ', end=' ')\n",
    "user_num = int(input())\n",
    "print(user_num)"
   ]
  },
  {
   "cell_type": "code",
   "execution_count": null,
   "metadata": {},
   "outputs": [],
   "source": [
    "current_salary = int(input('Enter current salary:'))\n",
    "\n",
    "raise_percentage = 5  # Logic error gives a 500% raise instead of 5%.\n",
    "new_salary = current_salary + (current_salary * raise_percentage)\n",
    "print('New salary:', new_salary)"
   ]
  },
  {
   "cell_type": "code",
   "execution_count": null,
   "metadata": {},
   "outputs": [],
   "source": [
    "num_beans = 500\n",
    "num_jars = 3\n",
    "total_beans = 0\n",
    "\n",
    "print(num_beans, 'beans in', end=' ')\n",
    "print(num_jars, 'jars yields', end=' ')\n",
    "total_beans = num_beans * num_jars\n",
    "print('total_beans', 'total')"
   ]
  },
  {
   "cell_type": "code",
   "execution_count": null,
   "metadata": {},
   "outputs": [],
   "source": [
    "print('Predictions are hard.')\n",
    "print('Especially about the future.')\n",
    "user_num = 5\n",
    "print('user_num is:'', user_num)"
   ]
  },
  {
   "cell_type": "code",
   "execution_count": null,
   "metadata": {},
   "outputs": [],
   "source": []
  }
 ],
 "metadata": {
  "kernelspec": {
   "display_name": "Python 3",
   "language": "python",
   "name": "python3"
  },
  "language_info": {
   "codemirror_mode": {
    "name": "ipython",
    "version": 3
   },
   "file_extension": ".py",
   "mimetype": "text/x-python",
   "name": "python",
   "nbconvert_exporter": "python",
   "pygments_lexer": "ipython3",
   "version": "3.8.5"
  }
 },
 "nbformat": 4,
 "nbformat_minor": 4
}
